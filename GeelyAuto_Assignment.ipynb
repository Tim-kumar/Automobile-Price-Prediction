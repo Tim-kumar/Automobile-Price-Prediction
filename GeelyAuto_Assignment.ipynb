{
 "cells": [
  {
   "cell_type": "markdown",
   "metadata": {},
   "source": [
    "## Geely Auto Assignment - Tim Kumar M B"
   ]
  },
  {
   "cell_type": "code",
   "execution_count": 71,
   "metadata": {},
   "outputs": [],
   "source": [
    "#### Importing the required libraries\n",
    "import pandas as pd\n",
    "import numpy as np\n",
    "import matplotlib.pyplot as plt\n",
    "import seaborn as sns\n",
    "%matplotlib inline\n",
    "\n",
    "import statsmodels.api as sm   "
   ]
  },
  {
   "cell_type": "code",
   "execution_count": 72,
   "metadata": {
    "collapsed": true
   },
   "outputs": [],
   "source": [
    "# Importing Dataset\n",
    "master = pd.read_csv('CarPrice_Assignment.csv')"
   ]
  },
  {
   "cell_type": "code",
   "execution_count": 73,
   "metadata": {},
   "outputs": [
    {
     "data": {
      "text/html": [
       "<div>\n",
       "<style>\n",
       "    .dataframe thead tr:only-child th {\n",
       "        text-align: right;\n",
       "    }\n",
       "\n",
       "    .dataframe thead th {\n",
       "        text-align: left;\n",
       "    }\n",
       "\n",
       "    .dataframe tbody tr th {\n",
       "        vertical-align: top;\n",
       "    }\n",
       "</style>\n",
       "<table border=\"1\" class=\"dataframe\">\n",
       "  <thead>\n",
       "    <tr style=\"text-align: right;\">\n",
       "      <th></th>\n",
       "      <th>car_ID</th>\n",
       "      <th>symboling</th>\n",
       "      <th>CarName</th>\n",
       "      <th>fueltype</th>\n",
       "      <th>aspiration</th>\n",
       "      <th>doornumber</th>\n",
       "      <th>carbody</th>\n",
       "      <th>drivewheel</th>\n",
       "      <th>enginelocation</th>\n",
       "      <th>wheelbase</th>\n",
       "      <th>...</th>\n",
       "      <th>enginesize</th>\n",
       "      <th>fuelsystem</th>\n",
       "      <th>boreratio</th>\n",
       "      <th>stroke</th>\n",
       "      <th>compressionratio</th>\n",
       "      <th>horsepower</th>\n",
       "      <th>peakrpm</th>\n",
       "      <th>citympg</th>\n",
       "      <th>highwaympg</th>\n",
       "      <th>price</th>\n",
       "    </tr>\n",
       "  </thead>\n",
       "  <tbody>\n",
       "    <tr>\n",
       "      <th>0</th>\n",
       "      <td>1</td>\n",
       "      <td>3</td>\n",
       "      <td>alfa-romero giulia</td>\n",
       "      <td>gas</td>\n",
       "      <td>std</td>\n",
       "      <td>two</td>\n",
       "      <td>convertible</td>\n",
       "      <td>rwd</td>\n",
       "      <td>front</td>\n",
       "      <td>88.6</td>\n",
       "      <td>...</td>\n",
       "      <td>130</td>\n",
       "      <td>mpfi</td>\n",
       "      <td>3.47</td>\n",
       "      <td>2.68</td>\n",
       "      <td>9.0</td>\n",
       "      <td>111</td>\n",
       "      <td>5000</td>\n",
       "      <td>21</td>\n",
       "      <td>27</td>\n",
       "      <td>13495.0</td>\n",
       "    </tr>\n",
       "    <tr>\n",
       "      <th>1</th>\n",
       "      <td>2</td>\n",
       "      <td>3</td>\n",
       "      <td>alfa-romero stelvio</td>\n",
       "      <td>gas</td>\n",
       "      <td>std</td>\n",
       "      <td>two</td>\n",
       "      <td>convertible</td>\n",
       "      <td>rwd</td>\n",
       "      <td>front</td>\n",
       "      <td>88.6</td>\n",
       "      <td>...</td>\n",
       "      <td>130</td>\n",
       "      <td>mpfi</td>\n",
       "      <td>3.47</td>\n",
       "      <td>2.68</td>\n",
       "      <td>9.0</td>\n",
       "      <td>111</td>\n",
       "      <td>5000</td>\n",
       "      <td>21</td>\n",
       "      <td>27</td>\n",
       "      <td>16500.0</td>\n",
       "    </tr>\n",
       "    <tr>\n",
       "      <th>2</th>\n",
       "      <td>3</td>\n",
       "      <td>1</td>\n",
       "      <td>alfa-romero Quadrifoglio</td>\n",
       "      <td>gas</td>\n",
       "      <td>std</td>\n",
       "      <td>two</td>\n",
       "      <td>hatchback</td>\n",
       "      <td>rwd</td>\n",
       "      <td>front</td>\n",
       "      <td>94.5</td>\n",
       "      <td>...</td>\n",
       "      <td>152</td>\n",
       "      <td>mpfi</td>\n",
       "      <td>2.68</td>\n",
       "      <td>3.47</td>\n",
       "      <td>9.0</td>\n",
       "      <td>154</td>\n",
       "      <td>5000</td>\n",
       "      <td>19</td>\n",
       "      <td>26</td>\n",
       "      <td>16500.0</td>\n",
       "    </tr>\n",
       "    <tr>\n",
       "      <th>3</th>\n",
       "      <td>4</td>\n",
       "      <td>2</td>\n",
       "      <td>audi 100 ls</td>\n",
       "      <td>gas</td>\n",
       "      <td>std</td>\n",
       "      <td>four</td>\n",
       "      <td>sedan</td>\n",
       "      <td>fwd</td>\n",
       "      <td>front</td>\n",
       "      <td>99.8</td>\n",
       "      <td>...</td>\n",
       "      <td>109</td>\n",
       "      <td>mpfi</td>\n",
       "      <td>3.19</td>\n",
       "      <td>3.40</td>\n",
       "      <td>10.0</td>\n",
       "      <td>102</td>\n",
       "      <td>5500</td>\n",
       "      <td>24</td>\n",
       "      <td>30</td>\n",
       "      <td>13950.0</td>\n",
       "    </tr>\n",
       "    <tr>\n",
       "      <th>4</th>\n",
       "      <td>5</td>\n",
       "      <td>2</td>\n",
       "      <td>audi 100ls</td>\n",
       "      <td>gas</td>\n",
       "      <td>std</td>\n",
       "      <td>four</td>\n",
       "      <td>sedan</td>\n",
       "      <td>4wd</td>\n",
       "      <td>front</td>\n",
       "      <td>99.4</td>\n",
       "      <td>...</td>\n",
       "      <td>136</td>\n",
       "      <td>mpfi</td>\n",
       "      <td>3.19</td>\n",
       "      <td>3.40</td>\n",
       "      <td>8.0</td>\n",
       "      <td>115</td>\n",
       "      <td>5500</td>\n",
       "      <td>18</td>\n",
       "      <td>22</td>\n",
       "      <td>17450.0</td>\n",
       "    </tr>\n",
       "  </tbody>\n",
       "</table>\n",
       "<p>5 rows × 26 columns</p>\n",
       "</div>"
      ],
      "text/plain": [
       "   car_ID  symboling                   CarName fueltype aspiration doornumber  \\\n",
       "0       1          3        alfa-romero giulia      gas        std        two   \n",
       "1       2          3       alfa-romero stelvio      gas        std        two   \n",
       "2       3          1  alfa-romero Quadrifoglio      gas        std        two   \n",
       "3       4          2               audi 100 ls      gas        std       four   \n",
       "4       5          2                audi 100ls      gas        std       four   \n",
       "\n",
       "       carbody drivewheel enginelocation  wheelbase   ...     enginesize  \\\n",
       "0  convertible        rwd          front       88.6   ...            130   \n",
       "1  convertible        rwd          front       88.6   ...            130   \n",
       "2    hatchback        rwd          front       94.5   ...            152   \n",
       "3        sedan        fwd          front       99.8   ...            109   \n",
       "4        sedan        4wd          front       99.4   ...            136   \n",
       "\n",
       "   fuelsystem  boreratio  stroke compressionratio horsepower  peakrpm citympg  \\\n",
       "0        mpfi       3.47    2.68              9.0        111     5000      21   \n",
       "1        mpfi       3.47    2.68              9.0        111     5000      21   \n",
       "2        mpfi       2.68    3.47              9.0        154     5000      19   \n",
       "3        mpfi       3.19    3.40             10.0        102     5500      24   \n",
       "4        mpfi       3.19    3.40              8.0        115     5500      18   \n",
       "\n",
       "   highwaympg    price  \n",
       "0          27  13495.0  \n",
       "1          27  16500.0  \n",
       "2          26  16500.0  \n",
       "3          30  13950.0  \n",
       "4          22  17450.0  \n",
       "\n",
       "[5 rows x 26 columns]"
      ]
     },
     "execution_count": 73,
     "metadata": {},
     "output_type": "execute_result"
    }
   ],
   "source": [
    "master.head()"
   ]
  },
  {
   "cell_type": "code",
   "execution_count": 74,
   "metadata": {},
   "outputs": [
    {
     "name": "stdout",
     "output_type": "stream",
     "text": [
      "<class 'pandas.core.frame.DataFrame'>\n",
      "RangeIndex: 205 entries, 0 to 204\n",
      "Data columns (total 26 columns):\n",
      "car_ID              205 non-null int64\n",
      "symboling           205 non-null int64\n",
      "CarName             205 non-null object\n",
      "fueltype            205 non-null object\n",
      "aspiration          205 non-null object\n",
      "doornumber          205 non-null object\n",
      "carbody             205 non-null object\n",
      "drivewheel          205 non-null object\n",
      "enginelocation      205 non-null object\n",
      "wheelbase           205 non-null float64\n",
      "carlength           205 non-null float64\n",
      "carwidth            205 non-null float64\n",
      "carheight           205 non-null float64\n",
      "curbweight          205 non-null int64\n",
      "enginetype          205 non-null object\n",
      "cylindernumber      205 non-null object\n",
      "enginesize          205 non-null int64\n",
      "fuelsystem          205 non-null object\n",
      "boreratio           205 non-null float64\n",
      "stroke              205 non-null float64\n",
      "compressionratio    205 non-null float64\n",
      "horsepower          205 non-null int64\n",
      "peakrpm             205 non-null int64\n",
      "citympg             205 non-null int64\n",
      "highwaympg          205 non-null int64\n",
      "price               205 non-null float64\n",
      "dtypes: float64(8), int64(8), object(10)\n",
      "memory usage: 41.7+ KB\n"
     ]
    }
   ],
   "source": [
    "master.info()"
   ]
  },
  {
   "cell_type": "markdown",
   "metadata": {},
   "source": [
    "##### There are no null values in the dataset"
   ]
  },
  {
   "cell_type": "markdown",
   "metadata": {},
   "source": [
    "### Data Cleansing"
   ]
  },
  {
   "cell_type": "code",
   "execution_count": 75,
   "metadata": {
    "collapsed": true
   },
   "outputs": [],
   "source": [
    "####Remove model name from the car names\n",
    "master['CarName']=master['CarName'].apply(lambda x:x.split(\" \")[0])\n",
    "\n",
    "####CLassifying risk rating\n",
    "def riskRating(x):\n",
    "    if x<= -2 : return (\"safe\")\n",
    "    elif x> -2 and x <=1 : return (\"ok\")\n",
    "    else : return (\"risky\")\n",
    "      \n",
    "master['symboling']=master['symboling'].apply(lambda x: riskRating(x))"
   ]
  },
  {
   "cell_type": "code",
   "execution_count": 76,
   "metadata": {},
   "outputs": [
    {
     "name": "stdout",
     "output_type": "stream",
     "text": [
      "['risky' 'ok' 'safe']\n",
      "['alfa-romero' 'audi' 'bmw' 'chevrolet' 'dodge' 'honda' 'isuzu' 'jaguar'\n",
      " 'maxda' 'mazda' 'buick' 'mercury' 'mitsubishi' 'Nissan' 'nissan' 'peugeot'\n",
      " 'plymouth' 'porsche' 'porcshce' 'renault' 'saab' 'subaru' 'toyota'\n",
      " 'toyouta' 'vokswagen' 'volkswagen' 'vw' 'volvo']\n",
      "['gas' 'diesel']\n",
      "['std' 'turbo']\n",
      "['two' 'four']\n",
      "['convertible' 'hatchback' 'sedan' 'wagon' 'hardtop']\n",
      "['rwd' 'fwd' '4wd']\n",
      "['front' 'rear']\n",
      "['dohc' 'ohcv' 'ohc' 'l' 'rotor' 'ohcf' 'dohcv']\n",
      "['four' 'six' 'five' 'three' 'twelve' 'two' 'eight']\n",
      "['mpfi' '2bbl' 'mfi' '1bbl' 'spfi' '4bbl' 'idi' 'spdi']\n"
     ]
    }
   ],
   "source": [
    "####Checking for unique category names\n",
    "print(master['symboling'].unique())\n",
    "print(master['CarName'].unique())\n",
    "print(master['fueltype'].unique())\n",
    "print(master['aspiration'].unique())\n",
    "print(master['doornumber'].unique())\n",
    "print(master['carbody'].unique())\n",
    "print(master['drivewheel'].unique())\n",
    "print(master['enginelocation'].unique())\n",
    "print(master['enginetype'].unique())\n",
    "print(master['cylindernumber'].unique())\n",
    "print(master['fuelsystem'].unique())"
   ]
  },
  {
   "cell_type": "markdown",
   "metadata": {},
   "source": [
    "##### There are few mis-spells based on the source website info provided for each category"
   ]
  },
  {
   "cell_type": "code",
   "execution_count": 77,
   "metadata": {},
   "outputs": [
    {
     "name": "stdout",
     "output_type": "stream",
     "text": [
      "['alfa-romero' 'audi' 'bmw' 'chevrolet' 'dodge' 'honda' 'isuzu' 'jaguar'\n",
      " 'mazda' 'buick' 'mercury' 'mitsubishi' 'nissan' 'peugeot' 'plymouth'\n",
      " 'porsche' 'renault' 'saab' 'subaru' 'toyota' 'volkswagen' 'volvo']\n"
     ]
    }
   ],
   "source": [
    "####Name Corrections\n",
    "master.replace({'CarName':{'maxda':'mazda','Nissan':'nissan','porcshce':'porsche',\n",
    "                          'toyouta':'toyota','vokswagen':'volkswagen','vw':'volkswagen'}},inplace=True)\n",
    "print(master['CarName'].unique())"
   ]
  },
  {
   "cell_type": "markdown",
   "metadata": {},
   "source": [
    "### Exploratory Data Analysis"
   ]
  },
  {
   "cell_type": "code",
   "execution_count": 78,
   "metadata": {},
   "outputs": [
    {
     "data": {
      "image/png": "[encoded data removed]",
      "text/plain": [
       "<matplotlib.figure.Figure at 0x13084c10f98>"
      ]
     },
     "metadata": {},
     "output_type": "display_data"
    }
   ],
   "source": [
    "plt.figure(figsize=(20, 8))\n",
    "ax=sns.boxplot('CarName','price',data=master)\n",
    "ax.set_xticklabels(ax.get_xticklabels(), rotation=45, ha=\"right\")\n",
    "plt.show()"
   ]
  },
  {
   "cell_type": "markdown",
   "metadata": {},
   "source": [
    "##### Observation: Price goes higher as we move to the premium segment"
   ]
  },
  {
   "cell_type": "code",
   "execution_count": 79,
   "metadata": {},
   "outputs": [
    {
     "data": {
      "text/plain": [
       "<matplotlib.axes._subplots.AxesSubplot at 0x13085286780>"
      ]
     },
     "execution_count": 79,
     "metadata": {},
     "output_type": "execute_result"
    },
    {
     "data": {
      "image/png": "[encoded data removed]",
      "text/plain": [
       "<matplotlib.figure.Figure at 0x1308525d668>"
      ]
     },
     "metadata": {},
     "output_type": "display_data"
    }
   ],
   "source": [
    "plt.figure(figsize=(20, 8))\n",
    "\n",
    "# subplot 1\n",
    "plt.subplot(2, 2, 1)\n",
    "plt.title('fueltype')\n",
    "sns.boxplot('fueltype','price',data=master)\n",
    "\n",
    "# subplot 2\n",
    "plt.subplot(2, 2, 2)\n",
    "plt.title('doornumber')\n",
    "sns.boxplot('doornumber','price',data=master)"
   ]
  },
  {
   "cell_type": "markdown",
   "metadata": {},
   "source": [
    "##### Observation: Fueltype and Doornumber dont impact price much. Outliers seen above might belong to premium models. So lets not remove them"
   ]
  },
  {
   "cell_type": "code",
   "execution_count": 80,
   "metadata": {},
   "outputs": [
    {
     "data": {
      "text/plain": [
       "<matplotlib.axes._subplots.AxesSubplot at 0x130851ae4e0>"
      ]
     },
     "execution_count": 80,
     "metadata": {},
     "output_type": "execute_result"
    },
    {
     "data": {
      "image/png": "[encoded data removed]",
      "text/plain": [
       "<matplotlib.figure.Figure at 0x13084e5edd8>"
      ]
     },
     "metadata": {},
     "output_type": "display_data"
    }
   ],
   "source": [
    "plt.figure(figsize=(20, 8))\n",
    "\n",
    "# subplot 1\n",
    "plt.subplot(2, 2, 1)\n",
    "plt.title('carbody')\n",
    "sns.boxplot('carbody','price',data=master)\n",
    "\n",
    "# subplot 2\n",
    "plt.subplot(2, 2, 2)\n",
    "plt.title('enginetype')\n",
    "sns.boxplot('enginetype','price',data=master)"
   ]
  },
  {
   "cell_type": "markdown",
   "metadata": {},
   "source": [
    "##### Observation: Carbody - convertible and Hardtop looks costlier. Also price of engine type ohcv is on a higher side"
   ]
  },
  {
   "cell_type": "code",
   "execution_count": 81,
   "metadata": {},
   "outputs": [
    {
     "data": {
      "text/plain": [
       "<matplotlib.axes._subplots.AxesSubplot at 0x130856bd828>"
      ]
     },
     "execution_count": 81,
     "metadata": {},
     "output_type": "execute_result"
    },
    {
     "data": {
      "image/png": "[encoded data removed]",
      "text/plain": [
       "<matplotlib.figure.Figure at 0x13085025518>"
      ]
     },
     "metadata": {},
     "output_type": "display_data"
    }
   ],
   "source": [
    "plt.figure(figsize=(20, 8))\n",
    "\n",
    "# subplot 1\n",
    "plt.subplot(2, 2, 1)\n",
    "plt.title('fuelsystem')\n",
    "sns.boxplot('fuelsystem','price',data=master)\n",
    "\n",
    "# subplot 2\n",
    "plt.subplot(2, 2, 2)\n",
    "plt.title('cylindernumber')\n",
    "sns.boxplot('cylindernumber','price',data=master)"
   ]
  },
  {
   "cell_type": "markdown",
   "metadata": {
    "collapsed": true
   },
   "source": [
    "##### Observation: Price is higher as the number of cylinders in the engine increases"
   ]
  },
  {
   "cell_type": "markdown",
   "metadata": {},
   "source": [
    "##### Creating Derive metrics -Power-to-weight ratio. Power-to-weight ratio (or specific power or power-to-mass ratio) is a calculation commonly applied to engines and mobile power sources to enable the comparison of one unit or design to another. Power-to-weight ratio is a measurement of actual performance of any engine or power source"
   ]
  },
  {
   "cell_type": "code",
   "execution_count": 82,
   "metadata": {
    "collapsed": true
   },
   "outputs": [],
   "source": [
    "master['power2weightratio']=master['horsepower']/master['curbweight']"
   ]
  },
  {
   "cell_type": "code",
   "execution_count": 83,
   "metadata": {},
   "outputs": [
    {
     "data": {
      "text/plain": [
       "<matplotlib.axes._subplots.AxesSubplot at 0x13085a33898>"
      ]
     },
     "execution_count": 83,
     "metadata": {},
     "output_type": "execute_result"
    },
    {
     "data": {
      "image/png": "[encoded data removed]",
      "text/plain": [
       "<matplotlib.figure.Figure at 0x13084c10dd8>"
      ]
     },
     "metadata": {},
     "output_type": "display_data"
    }
   ],
   "source": [
    "####Correlation Matrix\n",
    "plt.figure(figsize=(16,10))    \n",
    "sns.heatmap(master.corr(),annot=True)"
   ]
  },
  {
   "cell_type": "markdown",
   "metadata": {},
   "source": [
    "##### wheelbase, carlength, carwidth, curbweigth and enginesize has high correlation among each other and also higly correlated with price"
   ]
  },
  {
   "cell_type": "code",
   "execution_count": 84,
   "metadata": {},
   "outputs": [
    {
     "data": {
      "text/plain": [
       "<seaborn.axisgrid.PairGrid at 0x130858fbe80>"
      ]
     },
     "execution_count": 84,
     "metadata": {},
     "output_type": "execute_result"
    },
    {
     "data": {
      "image/png": "[encoded data removed]",
      "text/plain": [
       "<matplotlib.figure.Figure at 0x130858cee80>"
      ]
     },
     "metadata": {},
     "output_type": "display_data"
    }
   ],
   "source": [
    "sns.pairplot(master, x_vars=['wheelbase','carlength','carwidth',\n",
    "                            'carheight','curbweight','enginesize'], y_vars='price', aspect=0.7, kind='scatter')"
   ]
  },
  {
   "cell_type": "code",
   "execution_count": 85,
   "metadata": {},
   "outputs": [
    {
     "data": {
      "text/plain": [
       "<seaborn.axisgrid.PairGrid at 0x13085d98668>"
      ]
     },
     "execution_count": 85,
     "metadata": {},
     "output_type": "execute_result"
    },
    {
     "data": {
      "image/png": "[encoded data removed]",
      "text/plain": [
       "<matplotlib.figure.Figure at 0x13085d989b0>"
      ]
     },
     "metadata": {},
     "output_type": "display_data"
    }
   ],
   "source": [
    "sns.pairplot(master, x_vars=['boreratio','stroke',\n",
    "                            'compressionratio','horsepower','peakrpm',\n",
    "                             'citympg','highwaympg'], y_vars='price', aspect=0.7, kind='scatter')"
   ]
  },
  {
   "cell_type": "code",
   "execution_count": 86,
   "metadata": {},
   "outputs": [
    {
     "name": "stdout",
     "output_type": "stream",
     "text": [
      "RSqaured for carwidth vs Price is 0.7562540557028414\n",
      "RSqaured for curbweight vs Price is 0.857185331412019\n",
      "RSqaured for enginesize vs Price is 0.9116592795656812\n",
      "RSqaured for boreratio vs Price is 0.7702071885910664\n",
      "RSqaured for stroke vs Price is 0.7350966204399925\n",
      "RSqaured for horsepower vs Price is 0.9008627734900864\n",
      "RSqaured for peakrpm vs Price is 0.7219395933285537\n",
      "RSqaured for citympg vs Price is 0.550031779156456\n"
     ]
    }
   ],
   "source": [
    "def getRSquared(DF,params):\n",
    "    y=DF['price']\n",
    "    for param in params:\n",
    "        X=DF[param]\n",
    "        X_updated = sm.add_constant(X)    \n",
    "        rsquared= sm.OLS(y,X).fit().rsquared\n",
    "        print(\"RSqaured for {param} vs Price is {rsquared}\".format(param=param,rsquared=rsquared))\n",
    "    \n",
    "    \n",
    "getRSquared(master,['carwidth','curbweight','enginesize',\n",
    "                   'boreratio','stroke','horsepower','peakrpm','citympg'])"
   ]
  },
  {
   "cell_type": "markdown",
   "metadata": {
    "collapsed": true
   },
   "source": [
    "##### Observation: Engine Size and Horse-power can alone explain the variability in price and in-turn they are highly correlated with each other"
   ]
  },
  {
   "cell_type": "markdown",
   "metadata": {},
   "source": [
    "##### Before proceeding further lets create dummy variables for the categorical variables"
   ]
  },
  {
   "cell_type": "code",
   "execution_count": 87,
   "metadata": {
    "collapsed": true
   },
   "outputs": [],
   "source": [
    "####Creating dummy variables for the categories\n",
    "categorical = pd.get_dummies(master[['symboling','CarName','fueltype','aspiration','doornumber',\n",
    "                                    'carbody','cylindernumber','drivewheel','enginelocation',\n",
    "                                    'enginetype','fuelsystem']],drop_first=True)\n",
    "master = pd.concat([master,categorical],axis=1)\n",
    "\n",
    "master.drop(['symboling','CarName','fueltype','aspiration','doornumber','carbody','cylindernumber',\n",
    "             'drivewheel','enginelocation','enginetype','fuelsystem'],axis=1,inplace=True)"
   ]
  },
  {
   "cell_type": "code",
   "execution_count": 88,
   "metadata": {},
   "outputs": [
    {
     "data": {
      "text/html": [
       "<div>\n",
       "<style>\n",
       "    .dataframe thead tr:only-child th {\n",
       "        text-align: right;\n",
       "    }\n",
       "\n",
       "    .dataframe thead th {\n",
       "        text-align: left;\n",
       "    }\n",
       "\n",
       "    .dataframe tbody tr th {\n",
       "        vertical-align: top;\n",
       "    }\n",
       "</style>\n",
       "<table border=\"1\" class=\"dataframe\">\n",
       "  <thead>\n",
       "    <tr style=\"text-align: right;\">\n",
       "      <th></th>\n",
       "      <th>car_ID</th>\n",
       "      <th>wheelbase</th>\n",
       "      <th>carlength</th>\n",
       "      <th>carwidth</th>\n",
       "      <th>carheight</th>\n",
       "      <th>curbweight</th>\n",
       "      <th>enginesize</th>\n",
       "      <th>boreratio</th>\n",
       "      <th>stroke</th>\n",
       "      <th>compressionratio</th>\n",
       "      <th>...</th>\n",
       "      <th>enginetype_ohcf</th>\n",
       "      <th>enginetype_ohcv</th>\n",
       "      <th>enginetype_rotor</th>\n",
       "      <th>fuelsystem_2bbl</th>\n",
       "      <th>fuelsystem_4bbl</th>\n",
       "      <th>fuelsystem_idi</th>\n",
       "      <th>fuelsystem_mfi</th>\n",
       "      <th>fuelsystem_mpfi</th>\n",
       "      <th>fuelsystem_spdi</th>\n",
       "      <th>fuelsystem_spfi</th>\n",
       "    </tr>\n",
       "  </thead>\n",
       "  <tbody>\n",
       "    <tr>\n",
       "      <th>0</th>\n",
       "      <td>1</td>\n",
       "      <td>88.6</td>\n",
       "      <td>168.8</td>\n",
       "      <td>64.1</td>\n",
       "      <td>48.8</td>\n",
       "      <td>2548</td>\n",
       "      <td>130</td>\n",
       "      <td>3.47</td>\n",
       "      <td>2.68</td>\n",
       "      <td>9.0</td>\n",
       "      <td>...</td>\n",
       "      <td>0</td>\n",
       "      <td>0</td>\n",
       "      <td>0</td>\n",
       "      <td>0</td>\n",
       "      <td>0</td>\n",
       "      <td>0</td>\n",
       "      <td>0</td>\n",
       "      <td>1</td>\n",
       "      <td>0</td>\n",
       "      <td>0</td>\n",
       "    </tr>\n",
       "    <tr>\n",
       "      <th>1</th>\n",
       "      <td>2</td>\n",
       "      <td>88.6</td>\n",
       "      <td>168.8</td>\n",
       "      <td>64.1</td>\n",
       "      <td>48.8</td>\n",
       "      <td>2548</td>\n",
       "      <td>130</td>\n",
       "      <td>3.47</td>\n",
       "      <td>2.68</td>\n",
       "      <td>9.0</td>\n",
       "      <td>...</td>\n",
       "      <td>0</td>\n",
       "      <td>0</td>\n",
       "      <td>0</td>\n",
       "      <td>0</td>\n",
       "      <td>0</td>\n",
       "      <td>0</td>\n",
       "      <td>0</td>\n",
       "      <td>1</td>\n",
       "      <td>0</td>\n",
       "      <td>0</td>\n",
       "    </tr>\n",
       "    <tr>\n",
       "      <th>2</th>\n",
       "      <td>3</td>\n",
       "      <td>94.5</td>\n",
       "      <td>171.2</td>\n",
       "      <td>65.5</td>\n",
       "      <td>52.4</td>\n",
       "      <td>2823</td>\n",
       "      <td>152</td>\n",
       "      <td>2.68</td>\n",
       "      <td>3.47</td>\n",
       "      <td>9.0</td>\n",
       "      <td>...</td>\n",
       "      <td>0</td>\n",
       "      <td>1</td>\n",
       "      <td>0</td>\n",
       "      <td>0</td>\n",
       "      <td>0</td>\n",
       "      <td>0</td>\n",
       "      <td>0</td>\n",
       "      <td>1</td>\n",
       "      <td>0</td>\n",
       "      <td>0</td>\n",
       "    </tr>\n",
       "    <tr>\n",
       "      <th>3</th>\n",
       "      <td>4</td>\n",
       "      <td>99.8</td>\n",
       "      <td>176.6</td>\n",
       "      <td>66.2</td>\n",
       "      <td>54.3</td>\n",
       "      <td>2337</td>\n",
       "      <td>109</td>\n",
       "      <td>3.19</td>\n",
       "      <td>3.40</td>\n",
       "      <td>10.0</td>\n",
       "      <td>...</td>\n",
       "      <td>0</td>\n",
       "      <td>0</td>\n",
       "      <td>0</td>\n",
       "      <td>0</td>\n",
       "      <td>0</td>\n",
       "      <td>0</td>\n",
       "      <td>0</td>\n",
       "      <td>1</td>\n",
       "      <td>0</td>\n",
       "      <td>0</td>\n",
       "    </tr>\n",
       "    <tr>\n",
       "      <th>4</th>\n",
       "      <td>5</td>\n",
       "      <td>99.4</td>\n",
       "      <td>176.6</td>\n",
       "      <td>66.4</td>\n",
       "      <td>54.3</td>\n",
       "      <td>2824</td>\n",
       "      <td>136</td>\n",
       "      <td>3.19</td>\n",
       "      <td>3.40</td>\n",
       "      <td>8.0</td>\n",
       "      <td>...</td>\n",
       "      <td>0</td>\n",
       "      <td>0</td>\n",
       "      <td>0</td>\n",
       "      <td>0</td>\n",
       "      <td>0</td>\n",
       "      <td>0</td>\n",
       "      <td>0</td>\n",
       "      <td>1</td>\n",
       "      <td>0</td>\n",
       "      <td>0</td>\n",
       "    </tr>\n",
       "  </tbody>\n",
       "</table>\n",
       "<p>5 rows × 68 columns</p>\n",
       "</div>"
      ],
      "text/plain": [
       "   car_ID  wheelbase  carlength  carwidth  carheight  curbweight  enginesize  \\\n",
       "0       1       88.6      168.8      64.1       48.8        2548         130   \n",
       "1       2       88.6      168.8      64.1       48.8        2548         130   \n",
       "2       3       94.5      171.2      65.5       52.4        2823         152   \n",
       "3       4       99.8      176.6      66.2       54.3        2337         109   \n",
       "4       5       99.4      176.6      66.4       54.3        2824         136   \n",
       "\n",
       "   boreratio  stroke  compressionratio       ...         enginetype_ohcf  \\\n",
       "0       3.47    2.68               9.0       ...                       0   \n",
       "1       3.47    2.68               9.0       ...                       0   \n",
       "2       2.68    3.47               9.0       ...                       0   \n",
       "3       3.19    3.40              10.0       ...                       0   \n",
       "4       3.19    3.40               8.0       ...                       0   \n",
       "\n",
       "   enginetype_ohcv  enginetype_rotor  fuelsystem_2bbl  fuelsystem_4bbl  \\\n",
       "0                0                 0                0                0   \n",
       "1                0                 0                0                0   \n",
       "2                1                 0                0                0   \n",
       "3                0                 0                0                0   \n",
       "4                0                 0                0                0   \n",
       "\n",
       "   fuelsystem_idi  fuelsystem_mfi  fuelsystem_mpfi  fuelsystem_spdi  \\\n",
       "0               0               0                1                0   \n",
       "1               0               0                1                0   \n",
       "2               0               0                1                0   \n",
       "3               0               0                1                0   \n",
       "4               0               0                1                0   \n",
       "\n",
       "   fuelsystem_spfi  \n",
       "0                0  \n",
       "1                0  \n",
       "2                0  \n",
       "3                0  \n",
       "4                0  \n",
       "\n",
       "[5 rows x 68 columns]"
      ]
     },
     "execution_count": 88,
     "metadata": {},
     "output_type": "execute_result"
    }
   ],
   "source": [
    "#master.to_csv(\"master_cat.csv\")\n",
    "master.head(5)"
   ]
  },
  {
   "cell_type": "markdown",
   "metadata": {
    "collapsed": true
   },
   "source": [
    "### Model Building"
   ]
  },
  {
   "cell_type": "markdown",
   "metadata": {},
   "source": [
    "#### Data Preprocessing"
   ]
  },
  {
   "cell_type": "code",
   "execution_count": 89,
   "metadata": {
    "collapsed": true
   },
   "outputs": [],
   "source": [
    "####Predictor variables\n",
    "X=master.drop(['car_ID','price'],axis=1)\n",
    "####Outcome variable\n",
    "y=master['price']\n",
    "\n",
    "####Standardizing Data\n",
    "def normalize (x): \n",
    "    return ( (x-np.min(x))/ (max(x) - min(x)))\n",
    "X=X.apply(normalize)"
   ]
  },
  {
   "cell_type": "code",
   "execution_count": 90,
   "metadata": {},
   "outputs": [
    {
     "data": {
      "text/html": [
       "<div>\n",
       "<style>\n",
       "    .dataframe thead tr:only-child th {\n",
       "        text-align: right;\n",
       "    }\n",
       "\n",
       "    .dataframe thead th {\n",
       "        text-align: left;\n",
       "    }\n",
       "\n",
       "    .dataframe tbody tr th {\n",
       "        vertical-align: top;\n",
       "    }\n",
       "</style>\n",
       "<table border=\"1\" class=\"dataframe\">\n",
       "  <thead>\n",
       "    <tr style=\"text-align: right;\">\n",
       "      <th></th>\n",
       "      <th>wheelbase</th>\n",
       "      <th>carlength</th>\n",
       "      <th>carwidth</th>\n",
       "      <th>carheight</th>\n",
       "      <th>curbweight</th>\n",
       "      <th>enginesize</th>\n",
       "      <th>boreratio</th>\n",
       "      <th>stroke</th>\n",
       "      <th>compressionratio</th>\n",
       "      <th>horsepower</th>\n",
       "      <th>...</th>\n",
       "      <th>enginetype_ohcf</th>\n",
       "      <th>enginetype_ohcv</th>\n",
       "      <th>enginetype_rotor</th>\n",
       "      <th>fuelsystem_2bbl</th>\n",
       "      <th>fuelsystem_4bbl</th>\n",
       "      <th>fuelsystem_idi</th>\n",
       "      <th>fuelsystem_mfi</th>\n",
       "      <th>fuelsystem_mpfi</th>\n",
       "      <th>fuelsystem_spdi</th>\n",
       "      <th>fuelsystem_spfi</th>\n",
       "    </tr>\n",
       "  </thead>\n",
       "  <tbody>\n",
       "    <tr>\n",
       "      <th>164</th>\n",
       "      <td>0.230321</td>\n",
       "      <td>0.411940</td>\n",
       "      <td>0.308333</td>\n",
       "      <td>0.400000</td>\n",
       "      <td>0.277735</td>\n",
       "      <td>0.139623</td>\n",
       "      <td>0.464286</td>\n",
       "      <td>0.457143</td>\n",
       "      <td>0.12500</td>\n",
       "      <td>0.091667</td>\n",
       "      <td>...</td>\n",
       "      <td>0.0</td>\n",
       "      <td>0.0</td>\n",
       "      <td>0.0</td>\n",
       "      <td>1.0</td>\n",
       "      <td>0.0</td>\n",
       "      <td>0.0</td>\n",
       "      <td>0.0</td>\n",
       "      <td>0.0</td>\n",
       "      <td>0.0</td>\n",
       "      <td>0.0</td>\n",
       "    </tr>\n",
       "    <tr>\n",
       "      <th>188</th>\n",
       "      <td>0.311953</td>\n",
       "      <td>0.456716</td>\n",
       "      <td>0.433333</td>\n",
       "      <td>0.658333</td>\n",
       "      <td>0.314973</td>\n",
       "      <td>0.181132</td>\n",
       "      <td>0.464286</td>\n",
       "      <td>0.633333</td>\n",
       "      <td>0.18750</td>\n",
       "      <td>0.216667</td>\n",
       "      <td>...</td>\n",
       "      <td>0.0</td>\n",
       "      <td>0.0</td>\n",
       "      <td>0.0</td>\n",
       "      <td>0.0</td>\n",
       "      <td>0.0</td>\n",
       "      <td>0.0</td>\n",
       "      <td>0.0</td>\n",
       "      <td>1.0</td>\n",
       "      <td>0.0</td>\n",
       "      <td>0.0</td>\n",
       "    </tr>\n",
       "    <tr>\n",
       "      <th>7</th>\n",
       "      <td>0.559767</td>\n",
       "      <td>0.770149</td>\n",
       "      <td>0.925000</td>\n",
       "      <td>0.658333</td>\n",
       "      <td>0.568658</td>\n",
       "      <td>0.283019</td>\n",
       "      <td>0.464286</td>\n",
       "      <td>0.633333</td>\n",
       "      <td>0.09375</td>\n",
       "      <td>0.258333</td>\n",
       "      <td>...</td>\n",
       "      <td>0.0</td>\n",
       "      <td>0.0</td>\n",
       "      <td>0.0</td>\n",
       "      <td>0.0</td>\n",
       "      <td>0.0</td>\n",
       "      <td>0.0</td>\n",
       "      <td>0.0</td>\n",
       "      <td>1.0</td>\n",
       "      <td>0.0</td>\n",
       "      <td>0.0</td>\n",
       "    </tr>\n",
       "    <tr>\n",
       "      <th>158</th>\n",
       "      <td>0.265306</td>\n",
       "      <td>0.376119</td>\n",
       "      <td>0.341667</td>\n",
       "      <td>0.433333</td>\n",
       "      <td>0.305275</td>\n",
       "      <td>0.184906</td>\n",
       "      <td>0.521429</td>\n",
       "      <td>0.609524</td>\n",
       "      <td>0.96875</td>\n",
       "      <td>0.033333</td>\n",
       "      <td>...</td>\n",
       "      <td>0.0</td>\n",
       "      <td>0.0</td>\n",
       "      <td>0.0</td>\n",
       "      <td>0.0</td>\n",
       "      <td>0.0</td>\n",
       "      <td>1.0</td>\n",
       "      <td>0.0</td>\n",
       "      <td>0.0</td>\n",
       "      <td>0.0</td>\n",
       "      <td>0.0</td>\n",
       "    </tr>\n",
       "    <tr>\n",
       "      <th>123</th>\n",
       "      <td>0.486880</td>\n",
       "      <td>0.500000</td>\n",
       "      <td>0.358333</td>\n",
       "      <td>1.000000</td>\n",
       "      <td>0.406129</td>\n",
       "      <td>0.230189</td>\n",
       "      <td>0.578571</td>\n",
       "      <td>0.661905</td>\n",
       "      <td>0.09375</td>\n",
       "      <td>0.166667</td>\n",
       "      <td>...</td>\n",
       "      <td>0.0</td>\n",
       "      <td>0.0</td>\n",
       "      <td>0.0</td>\n",
       "      <td>1.0</td>\n",
       "      <td>0.0</td>\n",
       "      <td>0.0</td>\n",
       "      <td>0.0</td>\n",
       "      <td>0.0</td>\n",
       "      <td>0.0</td>\n",
       "      <td>0.0</td>\n",
       "    </tr>\n",
       "  </tbody>\n",
       "</table>\n",
       "<p>5 rows × 66 columns</p>\n",
       "</div>"
      ],
      "text/plain": [
       "     wheelbase  carlength  carwidth  carheight  curbweight  enginesize  \\\n",
       "164   0.230321   0.411940  0.308333   0.400000    0.277735    0.139623   \n",
       "188   0.311953   0.456716  0.433333   0.658333    0.314973    0.181132   \n",
       "7     0.559767   0.770149  0.925000   0.658333    0.568658    0.283019   \n",
       "158   0.265306   0.376119  0.341667   0.433333    0.305275    0.184906   \n",
       "123   0.486880   0.500000  0.358333   1.000000    0.406129    0.230189   \n",
       "\n",
       "     boreratio    stroke  compressionratio  horsepower       ...         \\\n",
       "164   0.464286  0.457143           0.12500    0.091667       ...          \n",
       "188   0.464286  0.633333           0.18750    0.216667       ...          \n",
       "7     0.464286  0.633333           0.09375    0.258333       ...          \n",
       "158   0.521429  0.609524           0.96875    0.033333       ...          \n",
       "123   0.578571  0.661905           0.09375    0.166667       ...          \n",
       "\n",
       "     enginetype_ohcf  enginetype_ohcv  enginetype_rotor  fuelsystem_2bbl  \\\n",
       "164              0.0              0.0               0.0              1.0   \n",
       "188              0.0              0.0               0.0              0.0   \n",
       "7                0.0              0.0               0.0              0.0   \n",
       "158              0.0              0.0               0.0              0.0   \n",
       "123              0.0              0.0               0.0              1.0   \n",
       "\n",
       "     fuelsystem_4bbl  fuelsystem_idi  fuelsystem_mfi  fuelsystem_mpfi  \\\n",
       "164              0.0             0.0             0.0              0.0   \n",
       "188              0.0             0.0             0.0              1.0   \n",
       "7                0.0             0.0             0.0              1.0   \n",
       "158              0.0             1.0             0.0              0.0   \n",
       "123              0.0             0.0             0.0              0.0   \n",
       "\n",
       "     fuelsystem_spdi  fuelsystem_spfi  \n",
       "164              0.0              0.0  \n",
       "188              0.0              0.0  \n",
       "7                0.0              0.0  \n",
       "158              0.0              0.0  \n",
       "123              0.0              0.0  \n",
       "\n",
       "[5 rows x 66 columns]"
      ]
     },
     "execution_count": 90,
     "metadata": {},
     "output_type": "execute_result"
    }
   ],
   "source": [
    "####Splitting data into 75% for training and 25% for testing\n",
    "from sklearn.cross_validation import train_test_split\n",
    "X_train, X_test, y_train, y_test = train_test_split(X, y, train_size=0.75,test_size = 0.25, \n",
    "                                                     random_state=100)\n",
    "X_train.head(5)"
   ]
  },
  {
   "cell_type": "code",
   "execution_count": 91,
   "metadata": {},
   "outputs": [
    {
     "data": {
      "text/plain": [
       "Index(['wheelbase', 'carlength', 'carwidth', 'carheight', 'curbweight',\n",
       "       'enginesize', 'boreratio', 'stroke', 'compressionratio', 'horsepower',\n",
       "       'peakrpm', 'citympg', 'highwaympg', 'power2weightratio',\n",
       "       'symboling_risky', 'symboling_safe', 'CarName_audi', 'CarName_bmw',\n",
       "       'CarName_buick', 'CarName_chevrolet', 'CarName_dodge', 'CarName_honda',\n",
       "       'CarName_isuzu', 'CarName_jaguar', 'CarName_mazda', 'CarName_mercury',\n",
       "       'CarName_mitsubishi', 'CarName_nissan', 'CarName_peugeot',\n",
       "       'CarName_plymouth', 'CarName_porsche', 'CarName_renault',\n",
       "       'CarName_saab', 'CarName_subaru', 'CarName_toyota',\n",
       "       'CarName_volkswagen', 'CarName_volvo', 'fueltype_gas',\n",
       "       'aspiration_turbo', 'doornumber_two', 'carbody_hardtop',\n",
       "       'carbody_hatchback', 'carbody_sedan', 'carbody_wagon',\n",
       "       'cylindernumber_five', 'cylindernumber_four', 'cylindernumber_six',\n",
       "       'cylindernumber_three', 'cylindernumber_twelve', 'cylindernumber_two',\n",
       "       'drivewheel_fwd', 'drivewheel_rwd', 'enginelocation_rear',\n",
       "       'enginetype_dohcv', 'enginetype_l', 'enginetype_ohc', 'enginetype_ohcf',\n",
       "       'enginetype_ohcv', 'enginetype_rotor', 'fuelsystem_2bbl',\n",
       "       'fuelsystem_4bbl', 'fuelsystem_idi', 'fuelsystem_mfi',\n",
       "       'fuelsystem_mpfi', 'fuelsystem_spdi', 'fuelsystem_spfi'],\n",
       "      dtype='object')"
      ]
     },
     "execution_count": 91,
     "metadata": {},
     "output_type": "execute_result"
    }
   ],
   "source": [
    "X_train.columns"
   ]
  },
  {
   "cell_type": "code",
   "execution_count": 92,
   "metadata": {
    "collapsed": true
   },
   "outputs": [],
   "source": [
    "####Library and VIF custom function for model building\n",
    "from sklearn.feature_selection import RFE\n",
    "from sklearn.linear_model import LinearRegression \n",
    "\n",
    "\n",
    "def vif_cal(input_data):\n",
    "    vif_df = pd.DataFrame( columns = ['Var', 'Vif'])\n",
    "    x_vars=input_data\n",
    "    xvar_names=x_vars.columns\n",
    "    for i in range(0,xvar_names.shape[0]):\n",
    "        y=x_vars[xvar_names[i]] \n",
    "        x=x_vars[xvar_names.drop(xvar_names[i])]\n",
    "        x_withC = sm.add_constant(x)\n",
    "        rsq=sm.OLS(y,x_withC).fit().rsquared  \n",
    "        if rsq==1: rsq=0.99999\n",
    "        vif=round(1/(1-rsq),2)\n",
    "        vif_df.loc[i] = [xvar_names[i], vif]\n",
    "    return vif_df.sort_values(by = 'Vif', axis=0, ascending=False, inplace=False)"
   ]
  },
  {
   "cell_type": "markdown",
   "metadata": {},
   "source": [
    "##### Approach will be Bidirectional - Initially Model will be built using forward selection. Once the model can explain significant variation in the output we will add the remaining predictors and do backward elimination rather than directly looking into RFE"
   ]
  },
  {
   "cell_type": "code",
   "execution_count": 93,
   "metadata": {
    "collapsed": true
   },
   "outputs": [],
   "source": [
    "####OLS Model\n",
    "def wrapperModel(predictors):\n",
    "    X_train_rfe=X_train[predictors]\n",
    "    X_updated = sm.add_constant(X_train_rfe)    \n",
    "    lm= sm.OLS(y_train,X_updated).fit()\n",
    "    print(lm.summary())\n",
    "    return(lm)"
   ]
  },
  {
   "cell_type": "code",
   "execution_count": 94,
   "metadata": {},
   "outputs": [
    {
     "name": "stdout",
     "output_type": "stream",
     "text": [
      "                            OLS Regression Results                            \n",
      "==============================================================================\n",
      "Dep. Variable:                  price   R-squared:                       0.470\n",
      "Model:                            OLS   Adj. R-squared:                  0.463\n",
      "Method:                 Least Squares   F-statistic:                     66.51\n",
      "Date:                Sun, 19 Aug 2018   Prob (F-statistic):           2.09e-21\n",
      "Time:                        18:34:01   Log-Likelihood:                -1540.4\n",
      "No. Observations:                 153   AIC:                             3087.\n",
      "Df Residuals:                     150   BIC:                             3096.\n",
      "Df Model:                           2                                         \n",
      "Covariance Type:            nonrobust                                         \n",
      "==============================================================================\n",
      "                 coef    std err          t      P>|t|      [0.025      0.975]\n",
      "------------------------------------------------------------------------------\n",
      "const      -1329.7297   1338.787     -0.993      0.322   -3975.046    1315.586\n",
      "wheelbase  -6259.5283   5556.925     -1.126      0.262   -1.72e+04    4720.430\n",
      "carlength    3.43e+04   5191.728      6.607      0.000     2.4e+04    4.46e+04\n",
      "==============================================================================\n",
      "Omnibus:                       62.679   Durbin-Watson:                   1.959\n",
      "Prob(Omnibus):                  0.000   Jarque-Bera (JB):              166.802\n",
      "Skew:                           1.705   Prob(JB):                     6.02e-37\n",
      "Kurtosis:                       6.814   Cond. No.                         18.5\n",
      "==============================================================================\n",
      "\n",
      "Warnings:\n",
      "[1] Standard Errors assume that the covariance matrix of the errors is correctly specified.\n"
     ]
    }
   ],
   "source": [
    "predictors=['wheelbase', 'carlength']\n",
    "model=wrapperModel(predictors)"
   ]
  },
  {
   "cell_type": "markdown",
   "metadata": {},
   "source": [
    "##### In presence of carlength, wheelbase is insignificant based on p value because of correlation. Remove wheelbase and add few more predictors"
   ]
  },
  {
   "cell_type": "code",
   "execution_count": 95,
   "metadata": {},
   "outputs": [
    {
     "name": "stdout",
     "output_type": "stream",
     "text": [
      "                            OLS Regression Results                            \n",
      "==============================================================================\n",
      "Dep. Variable:                  price   R-squared:                       0.584\n",
      "Model:                            OLS   Adj. R-squared:                  0.579\n",
      "Method:                 Least Squares   F-statistic:                     105.4\n",
      "Date:                Sun, 19 Aug 2018   Prob (F-statistic):           2.61e-29\n",
      "Time:                        18:34:01   Log-Likelihood:                -1521.8\n",
      "No. Observations:                 153   AIC:                             3050.\n",
      "Df Residuals:                     150   BIC:                             3059.\n",
      "Df Model:                           2                                         \n",
      "Covariance Type:            nonrobust                                         \n",
      "==============================================================================\n",
      "                 coef    std err          t      P>|t|      [0.025      0.975]\n",
      "------------------------------------------------------------------------------\n",
      "const      -2441.0853   1182.975     -2.064      0.041   -4778.532    -103.639\n",
      "carlength   6617.5279   4122.441      1.605      0.111   -1528.025    1.48e+04\n",
      "carwidth     2.68e+04   4096.136      6.543      0.000    1.87e+04    3.49e+04\n",
      "==============================================================================\n",
      "Omnibus:                       94.393   Durbin-Watson:                   1.739\n",
      "Prob(Omnibus):                  0.000   Jarque-Bera (JB):              553.624\n",
      "Skew:                           2.251   Prob(JB):                    6.05e-121\n",
      "Kurtosis:                      11.159   Cond. No.                         16.3\n",
      "==============================================================================\n",
      "\n",
      "Warnings:\n",
      "[1] Standard Errors assume that the covariance matrix of the errors is correctly specified.\n"
     ]
    }
   ],
   "source": [
    "predictors=['carlength', 'carwidth']\n",
    "model=wrapperModel(predictors)"
   ]
  },
  {
   "cell_type": "markdown",
   "metadata": {
    "collapsed": true
   },
   "source": [
    "##### Significance of carlength is reduced. Lets remove it and add carheight and curbweight"
   ]
  },
  {
   "cell_type": "code",
   "execution_count": 96,
   "metadata": {},
   "outputs": [
    {
     "name": "stdout",
     "output_type": "stream",
     "text": [
      "                            OLS Regression Results                            \n",
      "==============================================================================\n",
      "Dep. Variable:                  price   R-squared:                       0.742\n",
      "Model:                            OLS   Adj. R-squared:                  0.737\n",
      "Method:                 Least Squares   F-statistic:                     142.8\n",
      "Date:                Sun, 19 Aug 2018   Prob (F-statistic):           1.24e-43\n",
      "Time:                        18:34:01   Log-Likelihood:                -1485.3\n",
      "No. Observations:                 153   AIC:                             2979.\n",
      "Df Residuals:                     149   BIC:                             2991.\n",
      "Df Model:                           3                                         \n",
      "Covariance Type:            nonrobust                                         \n",
      "==============================================================================\n",
      "                 coef    std err          t      P>|t|      [0.025      0.975]\n",
      "------------------------------------------------------------------------------\n",
      "const       1495.6838   1076.228      1.390      0.167    -630.956    3622.324\n",
      "carwidth    5847.6576   3453.838      1.693      0.093    -977.173    1.27e+04\n",
      "carheight  -6249.7888   1622.150     -3.853      0.000   -9455.179   -3044.398\n",
      "curbweight  2.928e+04   3125.205      9.369      0.000    2.31e+04    3.55e+04\n",
      "==============================================================================\n",
      "Omnibus:                       87.734   Durbin-Watson:                   1.767\n",
      "Prob(Omnibus):                  0.000   Jarque-Bera (JB):              509.582\n",
      "Skew:                           2.048   Prob(JB):                    2.22e-111\n",
      "Kurtosis:                      10.947   Cond. No.                         17.7\n",
      "==============================================================================\n",
      "\n",
      "Warnings:\n",
      "[1] Standard Errors assume that the covariance matrix of the errors is correctly specified.\n"
     ]
    }
   ],
   "source": [
    "predictors=['carwidth', 'carheight','curbweight']\n",
    "model=wrapperModel(predictors)"
   ]
  },
  {
   "cell_type": "markdown",
   "metadata": {
    "collapsed": true
   },
   "source": [
    "##### Adj. R-squared has improved significantly. As carwidth is insignificant, lets remove it and add enginesize"
   ]
  },
  {
   "cell_type": "code",
   "execution_count": 97,
   "metadata": {},
   "outputs": [
    {
     "name": "stdout",
     "output_type": "stream",
     "text": [
      "                            OLS Regression Results                            \n",
      "==============================================================================\n",
      "Dep. Variable:                  price   R-squared:                       0.789\n",
      "Model:                            OLS   Adj. R-squared:                  0.784\n",
      "Method:                 Least Squares   F-statistic:                     185.2\n",
      "Date:                Sun, 19 Aug 2018   Prob (F-statistic):           4.66e-50\n",
      "Time:                        18:34:01   Log-Likelihood:                -1470.1\n",
      "No. Observations:                 153   AIC:                             2948.\n",
      "Df Residuals:                     149   BIC:                             2960.\n",
      "Df Model:                           3                                         \n",
      "Covariance Type:            nonrobust                                         \n",
      "==============================================================================\n",
      "                 coef    std err          t      P>|t|      [0.025      0.975]\n",
      "------------------------------------------------------------------------------\n",
      "const       1324.1517    881.109      1.503      0.135    -416.932    3065.235\n",
      "carheight  -2434.2752   1597.378     -1.524      0.130   -5590.715     722.165\n",
      "curbweight  1.679e+04   3188.496      5.265      0.000    1.05e+04    2.31e+04\n",
      "enginesize  2.521e+04   4183.942      6.025      0.000    1.69e+04    3.35e+04\n",
      "==============================================================================\n",
      "Omnibus:                       44.971   Durbin-Watson:                   1.884\n",
      "Prob(Omnibus):                  0.000   Jarque-Bera (JB):              121.946\n",
      "Skew:                           1.169   Prob(JB):                     3.31e-27\n",
      "Kurtosis:                       6.696   Cond. No.                         21.3\n",
      "==============================================================================\n",
      "\n",
      "Warnings:\n",
      "[1] Standard Errors assume that the covariance matrix of the errors is correctly specified.\n"
     ]
    }
   ],
   "source": [
    "predictors=['carheight','curbweight', 'enginesize']\n",
    "model=wrapperModel(predictors)"
   ]
  },
  {
   "cell_type": "markdown",
   "metadata": {
    "collapsed": true
   },
   "source": [
    "##### Improvement in Adj. R-squared. Remove insignificant variable carheight and add boreratio"
   ]
  },
  {
   "cell_type": "code",
   "execution_count": 98,
   "metadata": {},
   "outputs": [
    {
     "name": "stdout",
     "output_type": "stream",
     "text": [
      "                            OLS Regression Results                            \n",
      "==============================================================================\n",
      "Dep. Variable:                  price   R-squared:                       0.785\n",
      "Model:                            OLS   Adj. R-squared:                  0.781\n",
      "Method:                 Least Squares   F-statistic:                     181.6\n",
      "Date:                Sun, 19 Aug 2018   Prob (F-statistic):           1.46e-49\n",
      "Time:                        18:34:01   Log-Likelihood:                -1471.3\n",
      "No. Observations:                 153   AIC:                             2951.\n",
      "Df Residuals:                     149   BIC:                             2963.\n",
      "Df Model:                           3                                         \n",
      "Covariance Type:            nonrobust                                         \n",
      "==============================================================================\n",
      "                 coef    std err          t      P>|t|      [0.025      0.975]\n",
      "------------------------------------------------------------------------------\n",
      "const        333.3319    943.292      0.353      0.724   -1530.625    2197.289\n",
      "curbweight  1.442e+04   3040.239      4.744      0.000    8416.521    2.04e+04\n",
      "enginesize  2.769e+04   3881.400      7.133      0.000       2e+04    3.54e+04\n",
      "boreratio    310.3249   2075.227      0.150      0.881   -3790.352    4411.002\n",
      "==============================================================================\n",
      "Omnibus:                       43.492   Durbin-Watson:                   1.851\n",
      "Prob(Omnibus):                  0.000   Jarque-Bera (JB):              109.961\n",
      "Skew:                           1.159   Prob(JB):                     1.32e-24\n",
      "Kurtosis:                       6.446   Cond. No.                         19.6\n",
      "==============================================================================\n",
      "\n",
      "Warnings:\n",
      "[1] Standard Errors assume that the covariance matrix of the errors is correctly specified.\n"
     ]
    }
   ],
   "source": [
    "predictors=['curbweight', 'enginesize','boreratio']\n",
    "model=wrapperModel(predictors)"
   ]
  },
  {
   "cell_type": "markdown",
   "metadata": {
    "collapsed": true
   },
   "source": [
    "##### boreratio is insignificant. Add stroke variable"
   ]
  },
  {
   "cell_type": "code",
   "execution_count": 99,
   "metadata": {},
   "outputs": [
    {
     "name": "stdout",
     "output_type": "stream",
     "text": [
      "                            OLS Regression Results                            \n",
      "==============================================================================\n",
      "Dep. Variable:                  price   R-squared:                       0.792\n",
      "Model:                            OLS   Adj. R-squared:                  0.788\n",
      "Method:                 Least Squares   F-statistic:                     188.9\n",
      "Date:                Sun, 19 Aug 2018   Prob (F-statistic):           1.48e-50\n",
      "Time:                        18:34:01   Log-Likelihood:                -1468.9\n",
      "No. Observations:                 153   AIC:                             2946.\n",
      "Df Residuals:                     149   BIC:                             2958.\n",
      "Df Model:                           3                                         \n",
      "Covariance Type:            nonrobust                                         \n",
      "==============================================================================\n",
      "                 coef    std err          t      P>|t|      [0.025      0.975]\n",
      "------------------------------------------------------------------------------\n",
      "const       2666.9651   1223.207      2.180      0.031     249.892    5084.038\n",
      "curbweight  1.483e+04   2820.823      5.258      0.000    9257.690    2.04e+04\n",
      "enginesize  2.833e+04   3827.349      7.402      0.000    2.08e+04    3.59e+04\n",
      "stroke     -4389.0219   2030.924     -2.161      0.032   -8402.155    -375.888\n",
      "==============================================================================\n",
      "Omnibus:                       39.443   Durbin-Watson:                   1.933\n",
      "Prob(Omnibus):                  0.000   Jarque-Bera (JB):               94.838\n",
      "Skew:                           1.067   Prob(JB):                     2.55e-21\n",
      "Kurtosis:                       6.213   Cond. No.                         19.6\n",
      "==============================================================================\n",
      "\n",
      "Warnings:\n",
      "[1] Standard Errors assume that the covariance matrix of the errors is correctly specified.\n"
     ]
    }
   ],
   "source": [
    "predictors=['curbweight', 'enginesize','stroke']\n",
    "model=wrapperModel(predictors)"
   ]
  },
  {
   "cell_type": "markdown",
   "metadata": {},
   "source": [
    "##### Adding compressionratio"
   ]
  },
  {
   "cell_type": "code",
   "execution_count": 100,
   "metadata": {},
   "outputs": [
    {
     "name": "stdout",
     "output_type": "stream",
     "text": [
      "                            OLS Regression Results                            \n",
      "==============================================================================\n",
      "Dep. Variable:                  price   R-squared:                       0.792\n",
      "Model:                            OLS   Adj. R-squared:                  0.786\n",
      "Method:                 Least Squares   F-statistic:                     140.8\n",
      "Date:                Sun, 19 Aug 2018   Prob (F-statistic):           2.09e-49\n",
      "Time:                        18:34:01   Log-Likelihood:                -1468.9\n",
      "No. Observations:                 153   AIC:                             2948.\n",
      "Df Residuals:                     148   BIC:                             2963.\n",
      "Df Model:                           4                                         \n",
      "Covariance Type:            nonrobust                                         \n",
      "====================================================================================\n",
      "                       coef    std err          t      P>|t|      [0.025      0.975]\n",
      "------------------------------------------------------------------------------------\n",
      "const             2689.6200   1228.500      2.189      0.030     261.953    5117.287\n",
      "curbweight         1.46e+04   2906.502      5.022      0.000    8853.312    2.03e+04\n",
      "enginesize        2.857e+04   3899.451      7.327      0.000    2.09e+04    3.63e+04\n",
      "stroke           -4516.2609   2068.665     -2.183      0.031   -8604.196    -428.326\n",
      "compressionratio   439.6215   1247.344      0.352      0.725   -2025.284    2904.527\n",
      "==============================================================================\n",
      "Omnibus:                       39.691   Durbin-Watson:                   1.927\n",
      "Prob(Omnibus):                  0.000   Jarque-Bera (JB):               96.201\n",
      "Skew:                           1.070   Prob(JB):                     1.29e-21\n",
      "Kurtosis:                       6.242   Cond. No.                         20.4\n",
      "==============================================================================\n",
      "\n",
      "Warnings:\n",
      "[1] Standard Errors assume that the covariance matrix of the errors is correctly specified.\n"
     ]
    }
   ],
   "source": [
    "predictors=['curbweight', 'enginesize','stroke','compressionratio']\n",
    "model=wrapperModel(predictors)"
   ]
  },
  {
   "cell_type": "markdown",
   "metadata": {
    "collapsed": true
   },
   "source": [
    "##### compressionratio is insignificant. Remove it and add horsepower variable"
   ]
  },
  {
   "cell_type": "code",
   "execution_count": 101,
   "metadata": {},
   "outputs": [
    {
     "name": "stdout",
     "output_type": "stream",
     "text": [
      "                            OLS Regression Results                            \n",
      "==============================================================================\n",
      "Dep. Variable:                  price   R-squared:                       0.812\n",
      "Model:                            OLS   Adj. R-squared:                  0.807\n",
      "Method:                 Least Squares   F-statistic:                     160.3\n",
      "Date:                Sun, 19 Aug 2018   Prob (F-statistic):           9.98e-53\n",
      "Time:                        18:34:01   Log-Likelihood:                -1460.9\n",
      "No. Observations:                 153   AIC:                             2932.\n",
      "Df Residuals:                     148   BIC:                             2947.\n",
      "Df Model:                           4                                         \n",
      "Covariance Type:            nonrobust                                         \n",
      "==============================================================================\n",
      "                 coef    std err          t      P>|t|      [0.025      0.975]\n",
      "------------------------------------------------------------------------------\n",
      "const       2082.7815   1173.804      1.774      0.078    -236.799    4402.362\n",
      "curbweight  1.317e+04   2717.710      4.845      0.000    7796.414    1.85e+04\n",
      "enginesize  1.905e+04   4308.755      4.422      0.000    1.05e+04    2.76e+04\n",
      "stroke     -3071.2569   1961.382     -1.566      0.120   -6947.187     804.674\n",
      "horsepower  1.216e+04   3011.451      4.038      0.000    6208.136    1.81e+04\n",
      "==============================================================================\n",
      "Omnibus:                       24.964   Durbin-Watson:                   1.877\n",
      "Prob(Omnibus):                  0.000   Jarque-Bera (JB):               51.486\n",
      "Skew:                           0.718   Prob(JB):                     6.61e-12\n",
      "Kurtosis:                       5.453   Cond. No.                         22.6\n",
      "==============================================================================\n",
      "\n",
      "Warnings:\n",
      "[1] Standard Errors assume that the covariance matrix of the errors is correctly specified.\n"
     ]
    }
   ],
   "source": [
    "predictors=['curbweight', 'enginesize','stroke','horsepower']\n",
    "model=wrapperModel(predictors)"
   ]
  },
  {
   "cell_type": "markdown",
   "metadata": {},
   "source": [
    "##### Stroke variable is insignificant. Remove it and add peakrpm"
   ]
  },
  {
   "cell_type": "code",
   "execution_count": 102,
   "metadata": {},
   "outputs": [
    {
     "name": "stdout",
     "output_type": "stream",
     "text": [
      "                            OLS Regression Results                            \n",
      "==============================================================================\n",
      "Dep. Variable:                  price   R-squared:                       0.814\n",
      "Model:                            OLS   Adj. R-squared:                  0.809\n",
      "Method:                 Least Squares   F-statistic:                     162.0\n",
      "Date:                Sun, 19 Aug 2018   Prob (F-statistic):           5.15e-53\n",
      "Time:                        18:34:02   Log-Likelihood:                -1460.2\n",
      "No. Observations:                 153   AIC:                             2930.\n",
      "Df Residuals:                     148   BIC:                             2946.\n",
      "Df Model:                           4                                         \n",
      "Covariance Type:            nonrobust                                         \n",
      "==============================================================================\n",
      "                 coef    std err          t      P>|t|      [0.025      0.975]\n",
      "------------------------------------------------------------------------------\n",
      "const      -1361.5447   1148.973     -1.185      0.238   -3632.056     908.967\n",
      "curbweight  1.427e+04   2791.833      5.113      0.000    8757.971    1.98e+04\n",
      "enginesize  2.176e+04   4649.434      4.679      0.000    1.26e+04    3.09e+04\n",
      "horsepower  8236.5308   3815.367      2.159      0.032     696.898    1.58e+04\n",
      "peakrpm     3713.3634   1902.786      1.952      0.053     -46.774    7473.501\n",
      "==============================================================================\n",
      "Omnibus:                       23.872   Durbin-Watson:                   1.869\n",
      "Prob(Omnibus):                  0.000   Jarque-Bera (JB):               47.957\n",
      "Skew:                           0.696   Prob(JB):                     3.86e-11\n",
      "Kurtosis:                       5.363   Cond. No.                         24.4\n",
      "==============================================================================\n",
      "\n",
      "Warnings:\n",
      "[1] Standard Errors assume that the covariance matrix of the errors is correctly specified.\n"
     ]
    }
   ],
   "source": [
    "predictors=['curbweight', 'enginesize','horsepower','peakrpm']\n",
    "model=wrapperModel(predictors)"
   ]
  },
  {
   "cell_type": "markdown",
   "metadata": {
    "collapsed": true
   },
   "source": [
    "##### Remove peakrpm as its insignificant and add either citympg or highwaympg (both have high correlation. so add only one)"
   ]
  },
  {
   "cell_type": "code",
   "execution_count": 103,
   "metadata": {},
   "outputs": [
    {
     "name": "stdout",
     "output_type": "stream",
     "text": [
      "                            OLS Regression Results                            \n",
      "==============================================================================\n",
      "Dep. Variable:                  price   R-squared:                       0.810\n",
      "Model:                            OLS   Adj. R-squared:                  0.805\n",
      "Method:                 Least Squares   F-statistic:                     157.7\n",
      "Date:                Sun, 19 Aug 2018   Prob (F-statistic):           2.65e-52\n",
      "Time:                        18:34:02   Log-Likelihood:                -1461.9\n",
      "No. Observations:                 153   AIC:                             2934.\n",
      "Df Residuals:                     148   BIC:                             2949.\n",
      "Df Model:                           4                                         \n",
      "Covariance Type:            nonrobust                                         \n",
      "==============================================================================\n",
      "                 coef    std err          t      P>|t|      [0.025      0.975]\n",
      "------------------------------------------------------------------------------\n",
      "const       -675.9931   1859.462     -0.364      0.717   -4350.519    2998.532\n",
      "curbweight  1.403e+04   3196.895      4.388      0.000    7711.100    2.03e+04\n",
      "enginesize   1.68e+04   4648.762      3.614      0.000    7616.271     2.6e+04\n",
      "horsepower  1.452e+04   3768.841      3.852      0.000    7071.637     2.2e+04\n",
      "citympg     1965.1257   2862.963      0.686      0.494   -3692.440    7622.691\n",
      "==============================================================================\n",
      "Omnibus:                       26.008   Durbin-Watson:                   1.806\n",
      "Prob(Omnibus):                  0.000   Jarque-Bera (JB):               54.142\n",
      "Skew:                           0.745   Prob(JB):                     1.75e-12\n",
      "Kurtosis:                       5.505   Cond. No.                         26.1\n",
      "==============================================================================\n",
      "\n",
      "Warnings:\n",
      "[1] Standard Errors assume that the covariance matrix of the errors is correctly specified.\n"
     ]
    }
   ],
   "source": [
    "predictors=['curbweight', 'enginesize','horsepower','citympg']\n",
    "model=wrapperModel(predictors)"
   ]
  },
  {
   "cell_type": "markdown",
   "metadata": {
    "collapsed": true
   },
   "source": [
    "##### citimpg is insignificant. Lets as Risk rating variables"
   ]
  },
  {
   "cell_type": "code",
   "execution_count": 104,
   "metadata": {},
   "outputs": [
    {
     "name": "stdout",
     "output_type": "stream",
     "text": [
      "                            OLS Regression Results                            \n",
      "==============================================================================\n",
      "Dep. Variable:                  price   R-squared:                       0.811\n",
      "Model:                            OLS   Adj. R-squared:                  0.805\n",
      "Method:                 Least Squares   F-statistic:                     126.3\n",
      "Date:                Sun, 19 Aug 2018   Prob (F-statistic):           2.16e-51\n",
      "Time:                        18:34:02   Log-Likelihood:                -1461.4\n",
      "No. Observations:                 153   AIC:                             2935.\n",
      "Df Residuals:                     147   BIC:                             2953.\n",
      "Df Model:                           5                                         \n",
      "Covariance Type:            nonrobust                                         \n",
      "===================================================================================\n",
      "                      coef    std err          t      P>|t|      [0.025      0.975]\n",
      "-----------------------------------------------------------------------------------\n",
      "const             343.5585    661.781      0.519      0.604    -964.276    1651.393\n",
      "curbweight       1.339e+04   2762.983      4.846      0.000    7928.627    1.88e+04\n",
      "enginesize       1.825e+04   4313.450      4.231      0.000    9725.764    2.68e+04\n",
      "horsepower       1.214e+04   3137.166      3.869      0.000    5939.291    1.83e+04\n",
      "symboling_risky   535.5925    679.655      0.788      0.432    -807.565    1878.750\n",
      "symboling_safe  -2184.0946   2488.820     -0.878      0.382   -7102.583    2734.394\n",
      "==============================================================================\n",
      "Omnibus:                       25.110   Durbin-Watson:                   1.823\n",
      "Prob(Omnibus):                  0.000   Jarque-Bera (JB):               54.783\n",
      "Skew:                           0.699   Prob(JB):                     1.27e-12\n",
      "Kurtosis:                       5.576   Cond. No.                         20.7\n",
      "==============================================================================\n",
      "\n",
      "Warnings:\n",
      "[1] Standard Errors assume that the covariance matrix of the errors is correctly specified.\n"
     ]
    }
   ],
   "source": [
    "predictors=['curbweight', 'enginesize','horsepower','symboling_risky','symboling_safe']\n",
    "model=wrapperModel(predictors)"
   ]
  },
  {
   "cell_type": "markdown",
   "metadata": {
    "collapsed": true
   },
   "source": [
    "##### Risk rating variables are insignificant. Lets remove them and add carnames"
   ]
  },
  {
   "cell_type": "code",
   "execution_count": 105,
   "metadata": {},
   "outputs": [
    {
     "name": "stdout",
     "output_type": "stream",
     "text": [
      "                            OLS Regression Results                            \n",
      "==============================================================================\n",
      "Dep. Variable:                  price   R-squared:                       0.928\n",
      "Model:                            OLS   Adj. R-squared:                  0.919\n",
      "Method:                 Least Squares   F-statistic:                     102.6\n",
      "Date:                Sun, 19 Aug 2018   Prob (F-statistic):           2.16e-68\n",
      "Time:                        18:34:02   Log-Likelihood:                -1387.5\n",
      "No. Observations:                 153   AIC:                             2811.\n",
      "Df Residuals:                     135   BIC:                             2866.\n",
      "Df Model:                          17                                         \n",
      "Covariance Type:            nonrobust                                         \n",
      "======================================================================================\n",
      "                         coef    std err          t      P>|t|      [0.025      0.975]\n",
      "--------------------------------------------------------------------------------------\n",
      "const               2868.9545    574.270      4.996      0.000    1733.226    4004.683\n",
      "curbweight          1.102e+04   2745.279      4.013      0.000    5586.925    1.64e+04\n",
      "enginesize          7638.0192   3681.344      2.075      0.040     357.453    1.49e+04\n",
      "horsepower          9976.7931   2610.650      3.822      0.000    4813.731    1.51e+04\n",
      "CarName_audi        4422.1169   1088.400      4.063      0.000    2269.597    6574.636\n",
      "CarName_bmw         1.081e+04   1127.843      9.584      0.000    8578.931     1.3e+04\n",
      "CarName_buick       1.089e+04   1550.744      7.020      0.000    7819.878     1.4e+04\n",
      "CarName_jaguar      8036.0150   1988.964      4.040      0.000    4102.457     1.2e+04\n",
      "CarName_mazda       1604.0830    751.708      2.134      0.035     117.435    3090.730\n",
      "CarName_mitsubishi -1583.1915    848.507     -1.866      0.064   -3261.278      94.895\n",
      "CarName_nissan      -300.7576    726.033     -0.414      0.679   -1736.627    1135.112\n",
      "CarName_peugeot      789.1110   1241.133      0.636      0.526   -1665.469    3243.691\n",
      "CarName_porsche     1.173e+04   1475.037      7.955      0.000    8817.224    1.47e+04\n",
      "CarName_saab        2046.9161   1414.410      1.447      0.150    -750.352    4844.184\n",
      "CarName_subaru      -777.2551    787.424     -0.987      0.325   -2334.537     780.027\n",
      "CarName_toyota      -497.7852    650.519     -0.765      0.445   -1784.312     788.741\n",
      "CarName_volkswagen   999.7432    856.793      1.167      0.245    -694.729    2694.216\n",
      "CarName_volvo       3950.5131   1144.300      3.452      0.001    1687.439    6213.587\n",
      "==============================================================================\n",
      "Omnibus:                       27.178   Durbin-Watson:                   2.068\n",
      "Prob(Omnibus):                  0.000   Jarque-Bera (JB):               68.810\n",
      "Skew:                           0.700   Prob(JB):                     1.14e-15\n",
      "Kurtosis:                       5.972   Cond. No.                         27.2\n",
      "==============================================================================\n",
      "\n",
      "Warnings:\n",
      "[1] Standard Errors assume that the covariance matrix of the errors is correctly specified.\n"
     ]
    }
   ],
   "source": [
    "predictors=['curbweight', 'enginesize','horsepower','CarName_audi', 'CarName_bmw', 'CarName_buick',\n",
    "            'CarName_jaguar','CarName_mazda', 'CarName_mitsubishi','CarName_nissan', 'CarName_peugeot',\n",
    "            'CarName_porsche', 'CarName_saab', 'CarName_subaru','CarName_toyota', \n",
    "            'CarName_volkswagen', 'CarName_volvo']\n",
    "model=wrapperModel(predictors)"
   ]
  },
  {
   "cell_type": "markdown",
   "metadata": {
    "collapsed": true
   },
   "source": [
    "##### Adj. R-squared has improved from 0.805 to 0.919. Based on the p value and pointers from EDA, remove in-significant values"
   ]
  },
  {
   "cell_type": "code",
   "execution_count": 106,
   "metadata": {},
   "outputs": [
    {
     "name": "stdout",
     "output_type": "stream",
     "text": [
      "                            OLS Regression Results                            \n",
      "==============================================================================\n",
      "Dep. Variable:                  price   R-squared:                       0.928\n",
      "Model:                            OLS   Adj. R-squared:                  0.920\n",
      "Method:                 Least Squares   F-statistic:                     117.3\n",
      "Date:                Sun, 19 Aug 2018   Prob (F-statistic):           2.63e-70\n",
      "Time:                        18:34:02   Log-Likelihood:                -1387.9\n",
      "No. Observations:                 153   AIC:                             2808.\n",
      "Df Residuals:                     137   BIC:                             2856.\n",
      "Df Model:                          15                                         \n",
      "Covariance Type:            nonrobust                                         \n",
      "======================================================================================\n",
      "                         coef    std err          t      P>|t|      [0.025      0.975]\n",
      "--------------------------------------------------------------------------------------\n",
      "const               2696.9965    533.236      5.058      0.000    1642.559    3751.434\n",
      "curbweight           1.24e+04   2000.798      6.199      0.000    8446.262    1.64e+04\n",
      "enginesize          6930.9042   3564.123      1.945      0.054    -116.905     1.4e+04\n",
      "horsepower          9295.0764   2400.247      3.873      0.000    4548.754     1.4e+04\n",
      "CarName_audi        4258.5564    994.712      4.281      0.000    2291.582    6225.530\n",
      "CarName_bmw         1.073e+04   1043.092     10.288      0.000    8668.249    1.28e+04\n",
      "CarName_buick        1.05e+04   1307.867      8.030      0.000    7916.561    1.31e+04\n",
      "CarName_jaguar      7873.4667   1848.301      4.260      0.000    4218.578    1.15e+04\n",
      "CarName_mazda       1551.2359    702.437      2.208      0.029     162.216    2940.256\n",
      "CarName_mitsubishi -1577.9299    807.676     -1.954      0.053   -3175.053      19.194\n",
      "CarName_porsche     1.193e+04   1433.325      8.323      0.000    9095.146    1.48e+04\n",
      "CarName_saab        1921.3873   1361.650      1.411      0.160    -771.182    4613.957\n",
      "CarName_subaru      -819.6472    736.770     -1.112      0.268   -2276.559     637.265\n",
      "CarName_toyota      -573.4416    562.816     -1.019      0.310   -1686.372     539.489\n",
      "CarName_volkswagen   936.5559    801.054      1.169      0.244    -647.473    2520.585\n",
      "CarName_volvo       3723.3322   1011.283      3.682      0.000    1723.589    5723.075\n",
      "==============================================================================\n",
      "Omnibus:                       26.324   Durbin-Watson:                   2.043\n",
      "Prob(Omnibus):                  0.000   Jarque-Bera (JB):               67.199\n",
      "Skew:                           0.673   Prob(JB):                     2.56e-15\n",
      "Kurtosis:                       5.955   Cond. No.                         26.4\n",
      "==============================================================================\n",
      "\n",
      "Warnings:\n",
      "[1] Standard Errors assume that the covariance matrix of the errors is correctly specified.\n"
     ]
    }
   ],
   "source": [
    "predictors=['curbweight', 'enginesize','horsepower','CarName_audi', 'CarName_bmw','CarName_buick',\n",
    "            'CarName_jaguar','CarName_mazda', 'CarName_mitsubishi','CarName_porsche', 'CarName_saab',\n",
    "            'CarName_subaru','CarName_toyota', 'CarName_volkswagen', 'CarName_volvo']\n",
    "model=wrapperModel(predictors)"
   ]
  },
  {
   "cell_type": "markdown",
   "metadata": {
    "collapsed": true
   },
   "source": [
    "##### Adj. R-squared has slightly improved. Further remove insignificant variables"
   ]
  },
  {
   "cell_type": "code",
   "execution_count": 107,
   "metadata": {},
   "outputs": [
    {
     "name": "stdout",
     "output_type": "stream",
     "text": [
      "                            OLS Regression Results                            \n",
      "==============================================================================\n",
      "Dep. Variable:                  price   R-squared:                       0.924\n",
      "Model:                            OLS   Adj. R-squared:                  0.918\n",
      "Method:                 Least Squares   F-statistic:                     156.6\n",
      "Date:                Sun, 19 Aug 2018   Prob (F-statistic):           3.07e-73\n",
      "Time:                        18:34:02   Log-Likelihood:                -1391.5\n",
      "No. Observations:                 153   AIC:                             2807.\n",
      "Df Residuals:                     141   BIC:                             2843.\n",
      "Df Model:                          11                                         \n",
      "Covariance Type:            nonrobust                                         \n",
      "======================================================================================\n",
      "                         coef    std err          t      P>|t|      [0.025      0.975]\n",
      "--------------------------------------------------------------------------------------\n",
      "const               2600.3290    503.812      5.161      0.000    1604.327    3596.331\n",
      "curbweight          1.266e+04   1998.692      6.335      0.000    8710.534    1.66e+04\n",
      "enginesize          6013.5991   3523.406      1.707      0.090    -951.934     1.3e+04\n",
      "horsepower          9938.6184   2373.482      4.187      0.000    5246.407    1.46e+04\n",
      "CarName_audi        4265.1281    977.267      4.364      0.000    2333.138    6197.118\n",
      "CarName_bmw         1.081e+04   1033.674     10.461      0.000    8770.096    1.29e+04\n",
      "CarName_buick       1.064e+04   1298.085      8.193      0.000    8069.194    1.32e+04\n",
      "CarName_jaguar      8055.2036   1851.155      4.351      0.000    4395.597    1.17e+04\n",
      "CarName_mazda       1598.8476    676.920      2.362      0.020     260.622    2937.073\n",
      "CarName_mitsubishi -1524.7371    790.570     -1.929      0.056   -3087.640      38.166\n",
      "CarName_porsche     1.187e+04   1430.872      8.299      0.000    9046.167    1.47e+04\n",
      "CarName_volvo       3750.6471    994.169      3.773      0.000    1785.243    5716.051\n",
      "==============================================================================\n",
      "Omnibus:                       25.001   Durbin-Watson:                   2.068\n",
      "Prob(Omnibus):                  0.000   Jarque-Bera (JB):               55.098\n",
      "Skew:                           0.692   Prob(JB):                     1.09e-12\n",
      "Kurtosis:                       5.594   Cond. No.                         25.6\n",
      "==============================================================================\n",
      "\n",
      "Warnings:\n",
      "[1] Standard Errors assume that the covariance matrix of the errors is correctly specified.\n"
     ]
    }
   ],
   "source": [
    "predictors=['curbweight', 'enginesize','horsepower','CarName_audi', 'CarName_bmw', 'CarName_buick',\n",
    "            'CarName_jaguar','CarName_mazda', 'CarName_mitsubishi','CarName_porsche', 'CarName_volvo']\n",
    "model=wrapperModel(predictors)"
   ]
  },
  {
   "cell_type": "code",
   "execution_count": 108,
   "metadata": {},
   "outputs": [
    {
     "name": "stdout",
     "output_type": "stream",
     "text": [
      "                            OLS Regression Results                            \n",
      "==============================================================================\n",
      "Dep. Variable:                  price   R-squared:                       0.922\n",
      "Model:                            OLS   Adj. R-squared:                  0.917\n",
      "Method:                 Least Squares   F-statistic:                     168.6\n",
      "Date:                Sun, 19 Aug 2018   Prob (F-statistic):           1.43e-73\n",
      "Time:                        18:34:03   Log-Likelihood:                -1393.5\n",
      "No. Observations:                 153   AIC:                             2809.\n",
      "Df Residuals:                     142   BIC:                             2842.\n",
      "Df Model:                          10                                         \n",
      "Covariance Type:            nonrobust                                         \n",
      "===================================================================================\n",
      "                      coef    std err          t      P>|t|      [0.025      0.975]\n",
      "-----------------------------------------------------------------------------------\n",
      "const            2456.5914    503.018      4.884      0.000    1462.219    3450.964\n",
      "curbweight       1.302e+04   2008.833      6.483      0.000    9052.562     1.7e+04\n",
      "enginesize       6055.9423   3556.919      1.703      0.091    -975.414    1.31e+04\n",
      "horsepower       9304.5420   2373.006      3.921      0.000    4613.559     1.4e+04\n",
      "CarName_audi     4403.2863    983.927      4.475      0.000    2458.248    6348.325\n",
      "CarName_bmw      1.097e+04   1040.310     10.545      0.000    8913.483     1.3e+04\n",
      "CarName_buick    1.068e+04   1310.258      8.150      0.000    8088.895    1.33e+04\n",
      "CarName_jaguar   8221.3453   1866.774      4.404      0.000    4531.087    1.19e+04\n",
      "CarName_mazda    1721.4082    680.354      2.530      0.012     376.477    3066.340\n",
      "CarName_porsche  1.223e+04   1432.612      8.536      0.000    9396.358    1.51e+04\n",
      "CarName_volvo    3862.6099   1001.932      3.855      0.000    1881.980    5843.240\n",
      "==============================================================================\n",
      "Omnibus:                       23.918   Durbin-Watson:                   2.029\n",
      "Prob(Omnibus):                  0.000   Jarque-Bera (JB):               48.907\n",
      "Skew:                           0.690   Prob(JB):                     2.40e-11\n",
      "Kurtosis:                       5.401   Cond. No.                         25.5\n",
      "==============================================================================\n",
      "\n",
      "Warnings:\n",
      "[1] Standard Errors assume that the covariance matrix of the errors is correctly specified.\n",
      "<statsmodels.regression.linear_model.RegressionResultsWrapper object at 0x00000130864A46D8>\n"
     ]
    }
   ],
   "source": [
    "predictors=['curbweight', 'enginesize','horsepower','CarName_audi', 'CarName_bmw','CarName_buick',\n",
    "            'CarName_jaguar','CarName_mazda','CarName_porsche', 'CarName_volvo']\n",
    "print(wrapperModel(predictors))"
   ]
  },
  {
   "cell_type": "markdown",
   "metadata": {
    "collapsed": true
   },
   "source": [
    "##### Based on the p-value enginesize is insignificant. Lets remove and check the metrics"
   ]
  },
  {
   "cell_type": "code",
   "execution_count": 109,
   "metadata": {},
   "outputs": [
    {
     "name": "stdout",
     "output_type": "stream",
     "text": [
      "                            OLS Regression Results                            \n",
      "==============================================================================\n",
      "Dep. Variable:                  price   R-squared:                       0.921\n",
      "Model:                            OLS   Adj. R-squared:                  0.916\n",
      "Method:                 Least Squares   F-statistic:                     184.6\n",
      "Date:                Sun, 19 Aug 2018   Prob (F-statistic):           4.26e-74\n",
      "Time:                        18:34:03   Log-Likelihood:                -1395.0\n",
      "No. Observations:                 153   AIC:                             2810.\n",
      "Df Residuals:                     143   BIC:                             2840.\n",
      "Df Model:                           9                                         \n",
      "Covariance Type:            nonrobust                                         \n",
      "===================================================================================\n",
      "                      coef    std err          t      P>|t|      [0.025      0.975]\n",
      "-----------------------------------------------------------------------------------\n",
      "const            2682.0322    488.489      5.490      0.000    1716.439    3647.625\n",
      "curbweight       1.483e+04   1716.769      8.639      0.000    1.14e+04    1.82e+04\n",
      "horsepower       1.125e+04   2094.514      5.370      0.000    7106.807    1.54e+04\n",
      "CarName_audi     4262.8069    986.950      4.319      0.000    2311.911    6213.703\n",
      "CarName_bmw      1.146e+04   1006.036     11.393      0.000    9473.048    1.35e+04\n",
      "CarName_buick    1.145e+04   1237.199      9.256      0.000    9006.547    1.39e+04\n",
      "CarName_jaguar   9967.7100   1570.049      6.349      0.000    6864.207    1.31e+04\n",
      "CarName_mazda    1492.6586    671.370      2.223      0.028     165.568    2819.750\n",
      "CarName_porsche  1.252e+04   1431.789      8.744      0.000    9689.198    1.53e+04\n",
      "CarName_volvo    3851.0566   1008.539      3.818      0.000    1857.486    5844.628\n",
      "==============================================================================\n",
      "Omnibus:                       26.734   Durbin-Watson:                   2.040\n",
      "Prob(Omnibus):                  0.000   Jarque-Bera (JB):               64.827\n",
      "Skew:                           0.705   Prob(JB):                     8.37e-15\n",
      "Kurtosis:                       5.861   Cond. No.                         16.0\n",
      "==============================================================================\n",
      "\n",
      "Warnings:\n",
      "[1] Standard Errors assume that the covariance matrix of the errors is correctly specified.\n"
     ]
    }
   ],
   "source": [
    "predictors=['curbweight','horsepower','CarName_audi', 'CarName_bmw','CarName_buick', 'CarName_jaguar',\n",
    "            'CarName_mazda','CarName_porsche', 'CarName_volvo']\n",
    "model=wrapperModel(predictors)"
   ]
  },
  {
   "cell_type": "markdown",
   "metadata": {
    "collapsed": true
   },
   "source": [
    "##### Lets add couple of more predictor variables -carbody, fueltype and door and continue analysing the statistical significance of variables and remove insignificant variables"
   ]
  },
  {
   "cell_type": "code",
   "execution_count": 110,
   "metadata": {},
   "outputs": [
    {
     "name": "stdout",
     "output_type": "stream",
     "text": [
      "                            OLS Regression Results                            \n",
      "==============================================================================\n",
      "Dep. Variable:                  price   R-squared:                       0.936\n",
      "Model:                            OLS   Adj. R-squared:                  0.929\n",
      "Method:                 Least Squares   F-statistic:                     124.8\n",
      "Date:                Sun, 19 Aug 2018   Prob (F-statistic):           6.53e-73\n",
      "Time:                        18:34:03   Log-Likelihood:                -1378.4\n",
      "No. Observations:                 153   AIC:                             2791.\n",
      "Df Residuals:                     136   BIC:                             2842.\n",
      "Df Model:                          16                                         \n",
      "Covariance Type:            nonrobust                                         \n",
      "=====================================================================================\n",
      "                        coef    std err          t      P>|t|      [0.025      0.975]\n",
      "-------------------------------------------------------------------------------------\n",
      "const              9356.8336   1618.854      5.780      0.000    6155.452    1.26e+04\n",
      "curbweight           1.3e+04   2204.824      5.896      0.000    8639.601    1.74e+04\n",
      "horsepower         1.375e+04   2668.450      5.152      0.000    8472.109     1.9e+04\n",
      "CarName_audi       4507.9873    925.161      4.873      0.000    2678.424    6337.550\n",
      "CarName_bmw        1.137e+04   1001.063     11.360      0.000    9392.712    1.34e+04\n",
      "CarName_buick      1.014e+04   1173.126      8.644      0.000    7820.572    1.25e+04\n",
      "CarName_jaguar     9888.3500   1546.466      6.394      0.000    6830.120    1.29e+04\n",
      "CarName_mazda      1398.1148    635.781      2.199      0.030     140.820    2655.410\n",
      "CarName_porsche    1.038e+04   1471.775      7.050      0.000    7464.960    1.33e+04\n",
      "CarName_volvo      3794.0047    948.616      4.000      0.000    1918.059    5669.950\n",
      "fueltype_gas      -1863.9294    829.487     -2.247      0.026   -3504.291    -223.568\n",
      "aspiration_turbo   -247.4796    561.154     -0.441      0.660   -1357.195     862.236\n",
      "doornumber_two     -283.3659    537.507     -0.527      0.599   -1346.319     779.587\n",
      "carbody_hardtop   -2585.7955   1555.801     -1.662      0.099   -5662.486     490.895\n",
      "carbody_hatchback -4836.8264   1042.867     -4.638      0.000   -6899.159   -2774.494\n",
      "carbody_sedan     -4466.7222   1124.673     -3.972      0.000   -6690.832   -2242.612\n",
      "carbody_wagon     -5411.5453   1202.017     -4.502      0.000   -7788.608   -3034.483\n",
      "==============================================================================\n",
      "Omnibus:                       31.171   Durbin-Watson:                   2.058\n",
      "Prob(Omnibus):                  0.000   Jarque-Bera (JB):               99.104\n",
      "Skew:                           0.724   Prob(JB):                     3.02e-22\n",
      "Kurtosis:                       6.667   Cond. No.                         34.6\n",
      "==============================================================================\n",
      "\n",
      "Warnings:\n",
      "[1] Standard Errors assume that the covariance matrix of the errors is correctly specified.\n"
     ]
    }
   ],
   "source": [
    "predictors=['curbweight','horsepower','CarName_audi', 'CarName_bmw','CarName_buick', 'CarName_jaguar',\n",
    "            'CarName_mazda','CarName_porsche', 'CarName_volvo','fueltype_gas','aspiration_turbo',\n",
    "            'doornumber_two','carbody_hardtop','carbody_hatchback', 'carbody_sedan', 'carbody_wagon']\n",
    "model=wrapperModel(predictors)"
   ]
  },
  {
   "cell_type": "code",
   "execution_count": 111,
   "metadata": {},
   "outputs": [
    {
     "name": "stdout",
     "output_type": "stream",
     "text": [
      "                            OLS Regression Results                            \n",
      "==============================================================================\n",
      "Dep. Variable:                  price   R-squared:                       0.936\n",
      "Model:                            OLS   Adj. R-squared:                  0.930\n",
      "Method:                 Least Squares   F-statistic:                     144.2\n",
      "Date:                Sun, 19 Aug 2018   Prob (F-statistic):           5.72e-75\n",
      "Time:                        18:34:03   Log-Likelihood:                -1378.7\n",
      "No. Observations:                 153   AIC:                             2787.\n",
      "Df Residuals:                     138   BIC:                             2833.\n",
      "Df Model:                          14                                         \n",
      "Covariance Type:            nonrobust                                         \n",
      "=====================================================================================\n",
      "                        coef    std err          t      P>|t|      [0.025      0.975]\n",
      "-------------------------------------------------------------------------------------\n",
      "const              8890.9083   1419.603      6.263      0.000    6083.922    1.17e+04\n",
      "curbweight         1.341e+04   2076.321      6.459      0.000    9306.019    1.75e+04\n",
      "horsepower         1.302e+04   2434.565      5.350      0.000    8210.080    1.78e+04\n",
      "CarName_audi       4456.8874    916.844      4.861      0.000    2644.008    6269.767\n",
      "CarName_bmw        1.136e+04    958.679     11.845      0.000    9459.988    1.33e+04\n",
      "CarName_buick      1.009e+04   1163.377      8.673      0.000    7789.999    1.24e+04\n",
      "CarName_jaguar     9951.0840   1482.828      6.711      0.000    7019.082    1.29e+04\n",
      "CarName_mazda      1448.3413    623.066      2.325      0.022     216.351    2680.331\n",
      "CarName_porsche    1.063e+04   1401.041      7.586      0.000    7858.250    1.34e+04\n",
      "CarName_volvo      3770.8189    939.230      4.015      0.000    1913.676    5627.962\n",
      "fueltype_gas      -1663.9597    753.287     -2.209      0.029   -3153.438    -174.482\n",
      "carbody_hardtop   -2596.3746   1545.825     -1.680      0.095   -5652.939     460.190\n",
      "carbody_hatchback -4844.9469   1023.323     -4.735      0.000   -6868.368   -2821.526\n",
      "carbody_sedan     -4290.1609   1029.161     -4.169      0.000   -6325.125   -2255.197\n",
      "carbody_wagon     -5220.2417   1100.088     -4.745      0.000   -7395.450   -3045.033\n",
      "==============================================================================\n",
      "Omnibus:                       30.097   Durbin-Watson:                   2.049\n",
      "Prob(Omnibus):                  0.000   Jarque-Bera (JB):               92.316\n",
      "Skew:                           0.708   Prob(JB):                     8.99e-21\n",
      "Kurtosis:                       6.532   Cond. No.                         30.2\n",
      "==============================================================================\n",
      "\n",
      "Warnings:\n",
      "[1] Standard Errors assume that the covariance matrix of the errors is correctly specified.\n",
      "<statsmodels.regression.linear_model.RegressionResultsWrapper object at 0x00000130864A40B8>\n"
     ]
    }
   ],
   "source": [
    "predictors=['curbweight','horsepower','CarName_audi', 'CarName_bmw','CarName_buick', 'CarName_jaguar',\n",
    "            'CarName_mazda','CarName_porsche', 'CarName_volvo','fueltype_gas','carbody_hardtop',\n",
    "            'carbody_hatchback', 'carbody_sedan', 'carbody_wagon']\n",
    "print(wrapperModel(predictors))"
   ]
  },
  {
   "cell_type": "code",
   "execution_count": 112,
   "metadata": {},
   "outputs": [
    {
     "name": "stdout",
     "output_type": "stream",
     "text": [
      "                            OLS Regression Results                            \n",
      "==============================================================================\n",
      "Dep. Variable:                  price   R-squared:                       0.935\n",
      "Model:                            OLS   Adj. R-squared:                  0.929\n",
      "Method:                 Least Squares   F-statistic:                     153.0\n",
      "Date:                Sun, 19 Aug 2018   Prob (F-statistic):           1.81e-75\n",
      "Time:                        18:34:03   Log-Likelihood:                -1380.2\n",
      "No. Observations:                 153   AIC:                             2788.\n",
      "Df Residuals:                     139   BIC:                             2831.\n",
      "Df Model:                          13                                         \n",
      "Covariance Type:            nonrobust                                         \n",
      "=====================================================================================\n",
      "                        coef    std err          t      P>|t|      [0.025      0.975]\n",
      "-------------------------------------------------------------------------------------\n",
      "const              7844.5427   1283.932      6.110      0.000    5305.980    1.04e+04\n",
      "curbweight         1.352e+04   2088.908      6.471      0.000    9387.644    1.76e+04\n",
      "horsepower           1.3e+04   2450.428      5.306      0.000    8157.710    1.78e+04\n",
      "CarName_audi       4441.3472    922.784      4.813      0.000    2616.840    6265.855\n",
      "CarName_bmw        1.134e+04    964.877     11.750      0.000    9429.605    1.32e+04\n",
      "CarName_buick      1.027e+04   1166.024      8.808      0.000    7964.386    1.26e+04\n",
      "CarName_jaguar     9895.1077   1492.133      6.632      0.000    6944.895    1.28e+04\n",
      "CarName_mazda      1455.4229    627.119      2.321      0.022     215.496    2695.350\n",
      "CarName_porsche    1.044e+04   1405.686      7.427      0.000    7661.344    1.32e+04\n",
      "CarName_volvo      3759.7569    945.339      3.977      0.000    1890.653    5628.861\n",
      "fueltype_gas      -1607.4168    757.448     -2.122      0.036   -3105.027    -109.807\n",
      "carbody_hatchback -3877.1501    851.204     -4.555      0.000   -5560.132   -2194.169\n",
      "carbody_sedan     -3335.1064    863.415     -3.863      0.000   -5042.232   -1627.981\n",
      "carbody_wagon     -4279.2240    952.913     -4.491      0.000   -6163.303   -2395.145\n",
      "==============================================================================\n",
      "Omnibus:                       28.332   Durbin-Watson:                   2.002\n",
      "Prob(Omnibus):                  0.000   Jarque-Bera (JB):               88.910\n",
      "Skew:                           0.649   Prob(JB):                     4.94e-20\n",
      "Kurtosis:                       6.502   Cond. No.                         30.1\n",
      "==============================================================================\n",
      "\n",
      "Warnings:\n",
      "[1] Standard Errors assume that the covariance matrix of the errors is correctly specified.\n"
     ]
    }
   ],
   "source": [
    "predictors=['curbweight','horsepower','CarName_audi', 'CarName_bmw','CarName_buick', 'CarName_jaguar',\n",
    "            'CarName_mazda','CarName_porsche', 'CarName_volvo','fueltype_gas','carbody_hatchback',\n",
    "            'carbody_sedan', 'carbody_wagon']\n",
    "model=wrapperModel(predictors)"
   ]
  },
  {
   "cell_type": "markdown",
   "metadata": {},
   "source": [
    "##### Lets add cylindernumber variable and continue our model building by removing insignificant variables"
   ]
  },
  {
   "cell_type": "code",
   "execution_count": 113,
   "metadata": {},
   "outputs": [
    {
     "name": "stdout",
     "output_type": "stream",
     "text": [
      "                            OLS Regression Results                            \n",
      "==============================================================================\n",
      "Dep. Variable:                  price   R-squared:                       0.939\n",
      "Model:                            OLS   Adj. R-squared:                  0.930\n",
      "Method:                 Least Squares   F-statistic:                     107.6\n",
      "Date:                Sun, 19 Aug 2018   Prob (F-statistic):           5.14e-71\n",
      "Time:                        18:34:03   Log-Likelihood:                -1375.1\n",
      "No. Observations:                 153   AIC:                             2790.\n",
      "Df Residuals:                     133   BIC:                             2851.\n",
      "Df Model:                          19                                         \n",
      "Covariance Type:            nonrobust                                         \n",
      "=========================================================================================\n",
      "                            coef    std err          t      P>|t|      [0.025      0.975]\n",
      "-----------------------------------------------------------------------------------------\n",
      "const                  7664.5068   2602.934      2.945      0.004    2516.005    1.28e+04\n",
      "curbweight              1.32e+04   2203.795      5.992      0.000    8845.358    1.76e+04\n",
      "horsepower             1.189e+04   2955.051      4.024      0.000    6046.514    1.77e+04\n",
      "CarName_audi           6742.2723   1977.728      3.409      0.001    2830.404    1.07e+04\n",
      "CarName_bmw            1.054e+04   1031.588     10.213      0.000    8495.529    1.26e+04\n",
      "CarName_buick          1.197e+04   2003.677      5.974      0.000    8006.055    1.59e+04\n",
      "CarName_jaguar         9832.5021   1779.859      5.524      0.000    6312.010    1.34e+04\n",
      "CarName_mazda           955.3600    739.840      1.291      0.199    -508.015    2418.735\n",
      "CarName_porsche        1.077e+04   1463.507      7.356      0.000    7870.328    1.37e+04\n",
      "CarName_volvo          3550.8057    939.578      3.779      0.000    1692.357    5409.254\n",
      "fueltype_gas          -1740.3028    788.425     -2.207      0.029   -3299.776    -180.829\n",
      "carbody_hatchback     -3750.7963    855.969     -4.382      0.000   -5443.869   -2057.723\n",
      "carbody_sedan         -2986.1992    872.454     -3.423      0.001   -4711.880   -1260.518\n",
      "carbody_wagon         -3970.3949    962.059     -4.127      0.000   -5873.310   -2067.479\n",
      "cylindernumber_five   -1771.5201   1738.956     -1.019      0.310   -5211.107    1668.067\n",
      "cylindernumber_four     257.2375   2052.040      0.125      0.900   -3801.618    4316.093\n",
      "cylindernumber_six     1582.9855   1928.772      0.821      0.413   -2232.051    5398.022\n",
      "cylindernumber_three   2977.5924   3031.323      0.982      0.328   -3018.247    8973.432\n",
      "cylindernumber_twelve    16.0136   3302.129      0.005      0.996   -6515.469    6547.496\n",
      "cylindernumber_two     2115.2003   2331.846      0.907      0.366   -2497.101    6727.501\n",
      "==============================================================================\n",
      "Omnibus:                       35.361   Durbin-Watson:                   2.088\n",
      "Prob(Omnibus):                  0.000   Jarque-Bera (JB):              123.661\n",
      "Skew:                           0.803   Prob(JB):                     1.40e-27\n",
      "Kurtosis:                       7.101   Cond. No.                         56.9\n",
      "==============================================================================\n",
      "\n",
      "Warnings:\n",
      "[1] Standard Errors assume that the covariance matrix of the errors is correctly specified.\n"
     ]
    }
   ],
   "source": [
    "predictors=['curbweight','horsepower','CarName_audi', 'CarName_bmw','CarName_buick', 'CarName_jaguar',\n",
    "            'CarName_mazda','CarName_porsche', 'CarName_volvo','fueltype_gas','carbody_hatchback',\n",
    "            'carbody_sedan', 'carbody_wagon','cylindernumber_five', 'cylindernumber_four', \n",
    "            'cylindernumber_six','cylindernumber_three', 'cylindernumber_twelve', 'cylindernumber_two']\n",
    "model=wrapperModel(predictors)"
   ]
  },
  {
   "cell_type": "code",
   "execution_count": 114,
   "metadata": {},
   "outputs": [
    {
     "name": "stdout",
     "output_type": "stream",
     "text": [
      "                            OLS Regression Results                            \n",
      "==============================================================================\n",
      "Dep. Variable:                  price   R-squared:                       0.939\n",
      "Model:                            OLS   Adj. R-squared:                  0.931\n",
      "Method:                 Least Squares   F-statistic:                     122.0\n",
      "Date:                Sun, 19 Aug 2018   Prob (F-statistic):           4.24e-73\n",
      "Time:                        18:34:04   Log-Likelihood:                -1375.1\n",
      "No. Observations:                 153   AIC:                             2786.\n",
      "Df Residuals:                     135   BIC:                             2841.\n",
      "Df Model:                          17                                         \n",
      "Covariance Type:            nonrobust                                         \n",
      "========================================================================================\n",
      "                           coef    std err          t      P>|t|      [0.025      0.975]\n",
      "----------------------------------------------------------------------------------------\n",
      "const                 7936.9961   1269.414      6.252      0.000    5426.486    1.04e+04\n",
      "curbweight            1.326e+04   2082.075      6.366      0.000    9137.653    1.74e+04\n",
      "horsepower            1.171e+04   2488.109      4.706      0.000    6787.824    1.66e+04\n",
      "CarName_audi          6622.3216   1712.721      3.867      0.000    3235.086       1e+04\n",
      "CarName_bmw           1.052e+04   1015.535     10.364      0.000    8516.511    1.25e+04\n",
      "CarName_buick          1.18e+04   1447.659      8.149      0.000    8934.458    1.47e+04\n",
      "CarName_jaguar        9779.2604   1472.740      6.640      0.000    6866.633    1.27e+04\n",
      "CarName_mazda          951.1922    733.725      1.296      0.197    -499.889    2402.274\n",
      "CarName_porsche       1.075e+04   1387.179      7.753      0.000    8011.171    1.35e+04\n",
      "CarName_volvo         3553.5476    930.838      3.818      0.000    1712.637    5394.459\n",
      "fueltype_gas         -1734.2903    759.615     -2.283      0.024   -3236.575    -232.006\n",
      "carbody_hatchback    -3758.8497    845.653     -4.445      0.000   -5431.291   -2086.408\n",
      "carbody_sedan        -2998.7325    860.234     -3.486      0.001   -4700.011   -1297.454\n",
      "carbody_wagon        -3983.3195    949.767     -4.194      0.000   -5861.665   -2104.974\n",
      "cylindernumber_five  -1887.6433   1448.953     -1.303      0.195   -4753.226     977.939\n",
      "cylindernumber_six    1375.7239    683.544      2.013      0.046      23.883    2727.564\n",
      "cylindernumber_three  2707.1438   2125.389      1.274      0.205   -1496.222    6910.510\n",
      "cylindernumber_two    1877.5448   1288.422      1.457      0.147    -670.558    4425.648\n",
      "==============================================================================\n",
      "Omnibus:                       35.630   Durbin-Watson:                   2.092\n",
      "Prob(Omnibus):                  0.000   Jarque-Bera (JB):              125.618\n",
      "Skew:                           0.807   Prob(JB):                     5.28e-28\n",
      "Kurtosis:                       7.135   Cond. No.                         30.8\n",
      "==============================================================================\n",
      "\n",
      "Warnings:\n",
      "[1] Standard Errors assume that the covariance matrix of the errors is correctly specified.\n"
     ]
    }
   ],
   "source": [
    "predictors=['curbweight','horsepower','CarName_audi', 'CarName_bmw','CarName_buick', 'CarName_jaguar',\n",
    "            'CarName_mazda','CarName_porsche', 'CarName_volvo','fueltype_gas','carbody_hatchback',\n",
    "            'carbody_sedan', 'carbody_wagon','cylindernumber_five', 'cylindernumber_six',\n",
    "            'cylindernumber_three', 'cylindernumber_two']\n",
    "model=wrapperModel(predictors)"
   ]
  },
  {
   "cell_type": "code",
   "execution_count": 115,
   "metadata": {},
   "outputs": [
    {
     "name": "stdout",
     "output_type": "stream",
     "text": [
      "                            OLS Regression Results                            \n",
      "==============================================================================\n",
      "Dep. Variable:                  price   R-squared:                       0.937\n",
      "Model:                            OLS   Adj. R-squared:                  0.931\n",
      "Method:                 Least Squares   F-statistic:                     136.7\n",
      "Date:                Sun, 19 Aug 2018   Prob (F-statistic):           1.59e-74\n",
      "Time:                        18:34:04   Log-Likelihood:                -1377.0\n",
      "No. Observations:                 153   AIC:                             2786.\n",
      "Df Residuals:                     137   BIC:                             2834.\n",
      "Df Model:                          15                                         \n",
      "Covariance Type:            nonrobust                                         \n",
      "======================================================================================\n",
      "                         coef    std err          t      P>|t|      [0.025      0.975]\n",
      "--------------------------------------------------------------------------------------\n",
      "const               8026.0241   1268.851      6.325      0.000    5516.959    1.05e+04\n",
      "curbweight          1.309e+04   2070.983      6.322      0.000    8998.299    1.72e+04\n",
      "horsepower          1.152e+04   2496.049      4.617      0.000    6588.677    1.65e+04\n",
      "CarName_audi        4798.2369    925.222      5.186      0.000    2968.674    6627.800\n",
      "CarName_bmw         1.057e+04   1019.981     10.367      0.000    8557.707    1.26e+04\n",
      "CarName_buick       1.086e+04   1184.811      9.165      0.000    8516.419    1.32e+04\n",
      "CarName_jaguar      9955.4012   1472.724      6.760      0.000    7043.191    1.29e+04\n",
      "CarName_mazda        957.3787    735.779      1.301      0.195    -497.573    2412.331\n",
      "CarName_porsche     1.075e+04   1393.634      7.712      0.000    7992.525    1.35e+04\n",
      "CarName_volvo       3648.9956    933.709      3.908      0.000    1802.650    5495.341\n",
      "fueltype_gas       -1578.7418    747.885     -2.111      0.037   -3057.633     -99.851\n",
      "carbody_hatchback  -3857.4768    841.850     -4.582      0.000   -5522.177   -2192.777\n",
      "carbody_sedan      -3175.0847    854.186     -3.717      0.000   -4864.179   -1485.990\n",
      "carbody_wagon      -4154.0082    941.991     -4.410      0.000   -6016.730   -2291.287\n",
      "cylindernumber_six  1428.5436    685.718      2.083      0.039      72.584    2784.503\n",
      "cylindernumber_two  1830.5398   1294.190      1.414      0.160    -728.631    4389.711\n",
      "==============================================================================\n",
      "Omnibus:                       35.097   Durbin-Watson:                   2.053\n",
      "Prob(Omnibus):                  0.000   Jarque-Bera (JB):              120.643\n",
      "Skew:                           0.802   Prob(JB):                     6.35e-27\n",
      "Kurtosis:                       7.044   Cond. No.                         30.4\n",
      "==============================================================================\n",
      "\n",
      "Warnings:\n",
      "[1] Standard Errors assume that the covariance matrix of the errors is correctly specified.\n"
     ]
    }
   ],
   "source": [
    "predictors=['curbweight','horsepower','CarName_audi', 'CarName_bmw','CarName_buick', 'CarName_jaguar',\n",
    "            'CarName_mazda','CarName_porsche', 'CarName_volvo','fueltype_gas','carbody_hatchback',\n",
    "            'carbody_sedan', 'carbody_wagon', 'cylindernumber_six','cylindernumber_two']\n",
    "model=wrapperModel(predictors)"
   ]
  },
  {
   "cell_type": "code",
   "execution_count": 116,
   "metadata": {},
   "outputs": [
    {
     "name": "stdout",
     "output_type": "stream",
     "text": [
      "                            OLS Regression Results                            \n",
      "==============================================================================\n",
      "Dep. Variable:                  price   R-squared:                       0.937\n",
      "Model:                            OLS   Adj. R-squared:                  0.930\n",
      "Method:                 Least Squares   F-statistic:                     145.6\n",
      "Date:                Sun, 19 Aug 2018   Prob (F-statistic):           2.98e-75\n",
      "Time:                        18:34:04   Log-Likelihood:                -1377.9\n",
      "No. Observations:                 153   AIC:                             2786.\n",
      "Df Residuals:                     138   BIC:                             2831.\n",
      "Df Model:                          14                                         \n",
      "Covariance Type:            nonrobust                                         \n",
      "======================================================================================\n",
      "                         coef    std err          t      P>|t|      [0.025      0.975]\n",
      "--------------------------------------------------------------------------------------\n",
      "const               8161.5997   1267.737      6.438      0.000    5654.899    1.07e+04\n",
      "curbweight          1.308e+04   2076.133      6.298      0.000    8970.957    1.72e+04\n",
      "horsepower           1.13e+04   2496.572      4.528      0.000    6368.160    1.62e+04\n",
      "CarName_audi        4758.3809    927.034      5.133      0.000    2925.353    6591.408\n",
      "CarName_bmw         1.053e+04   1021.896     10.302      0.000    8506.976    1.25e+04\n",
      "CarName_buick       1.081e+04   1187.181      9.106      0.000    8462.852    1.32e+04\n",
      "CarName_jaguar      9976.9492   1476.324      6.758      0.000    7057.808    1.29e+04\n",
      "CarName_porsche     1.081e+04   1396.236      7.745      0.000    8052.384    1.36e+04\n",
      "CarName_volvo       3594.8721    935.122      3.844      0.000    1745.853    5443.891\n",
      "fueltype_gas       -1639.0169    748.321     -2.190      0.030   -3118.674    -159.359\n",
      "carbody_hatchback  -3821.7498    843.512     -4.531      0.000   -5489.629   -2153.871\n",
      "carbody_sedan      -3112.9336    854.989     -3.641      0.000   -4803.505   -1422.362\n",
      "carbody_wagon      -4176.1040    944.200     -4.423      0.000   -6043.073   -2309.135\n",
      "cylindernumber_six  1431.0087    687.435      2.082      0.039      71.742    2790.276\n",
      "cylindernumber_two  2739.4547   1092.218      2.508      0.013     579.808    4899.101\n",
      "==============================================================================\n",
      "Omnibus:                       36.963   Durbin-Watson:                   2.044\n",
      "Prob(Omnibus):                  0.000   Jarque-Bera (JB):              130.845\n",
      "Skew:                           0.842   Prob(JB):                     3.87e-29\n",
      "Kurtosis:                       7.206   Cond. No.                         30.4\n",
      "==============================================================================\n",
      "\n",
      "Warnings:\n",
      "[1] Standard Errors assume that the covariance matrix of the errors is correctly specified.\n"
     ]
    }
   ],
   "source": [
    "predictors=['curbweight','horsepower','CarName_audi', 'CarName_bmw','CarName_buick', 'CarName_jaguar',\n",
    "            'CarName_porsche', 'CarName_volvo','fueltype_gas','carbody_hatchback',\n",
    "            'carbody_sedan', 'carbody_wagon', 'cylindernumber_six','cylindernumber_two']\n",
    "model=wrapperModel(predictors)"
   ]
  },
  {
   "cell_type": "markdown",
   "metadata": {},
   "source": [
    "##### lets add engine location and drivewheel variable"
   ]
  },
  {
   "cell_type": "code",
   "execution_count": 117,
   "metadata": {},
   "outputs": [
    {
     "name": "stdout",
     "output_type": "stream",
     "text": [
      "                            OLS Regression Results                            \n",
      "==============================================================================\n",
      "Dep. Variable:                  price   R-squared:                       0.942\n",
      "Model:                            OLS   Adj. R-squared:                  0.934\n",
      "Method:                 Least Squares   F-statistic:                     128.5\n",
      "Date:                Sun, 19 Aug 2018   Prob (F-statistic):           1.60e-74\n",
      "Time:                        18:34:04   Log-Likelihood:                -1371.4\n",
      "No. Observations:                 153   AIC:                             2779.\n",
      "Df Residuals:                     135   BIC:                             2833.\n",
      "Df Model:                          17                                         \n",
      "Covariance Type:            nonrobust                                         \n",
      "=======================================================================================\n",
      "                          coef    std err          t      P>|t|      [0.025      0.975]\n",
      "---------------------------------------------------------------------------------------\n",
      "const                5426.3410   1608.025      3.375      0.001    2246.162    8606.520\n",
      "curbweight           1.474e+04   2289.973      6.436      0.000    1.02e+04    1.93e+04\n",
      "horsepower           1.112e+04   2439.385      4.558      0.000    6294.976    1.59e+04\n",
      "CarName_audi         4627.8620    948.737      4.878      0.000    2751.553    6504.171\n",
      "CarName_bmw          1.094e+04   1028.291     10.644      0.000    8911.312     1.3e+04\n",
      "CarName_buick        1.039e+04   1157.375      8.977      0.000    8101.157    1.27e+04\n",
      "CarName_jaguar       9614.6985   1436.232      6.694      0.000    6774.274    1.25e+04\n",
      "CarName_porsche      7561.8859   1738.009      4.351      0.000    4124.639     1.1e+04\n",
      "CarName_volvo        3552.5567    944.071      3.763      0.000    1685.475    5419.639\n",
      "fueltype_gas        -1362.8295    732.235     -1.861      0.065   -2810.965      85.306\n",
      "carbody_hatchback   -2610.0317    922.312     -2.830      0.005   -4434.081    -785.983\n",
      "carbody_sedan       -2094.5673    918.749     -2.280      0.024   -3911.570    -277.565\n",
      "carbody_wagon       -3163.2401   1010.507     -3.130      0.002   -5161.713   -1164.768\n",
      "cylindernumber_six    543.6356    723.912      0.751      0.454    -888.040    1975.312\n",
      "cylindernumber_two   2561.4036   1164.167      2.200      0.029     259.039    4863.768\n",
      "drivewheel_fwd       1052.9537    800.776      1.315      0.191    -530.734    2636.642\n",
      "drivewheel_rwd        877.2566    930.617      0.943      0.348    -963.217    2717.730\n",
      "enginelocation_rear  7739.7895   2392.398      3.235      0.002    3008.363    1.25e+04\n",
      "==============================================================================\n",
      "Omnibus:                       41.722   Durbin-Watson:                   1.988\n",
      "Prob(Omnibus):                  0.000   Jarque-Bera (JB):              174.422\n",
      "Skew:                           0.905   Prob(JB):                     1.33e-38\n",
      "Kurtosis:                       7.908   Cond. No.                         35.1\n",
      "==============================================================================\n",
      "\n",
      "Warnings:\n",
      "[1] Standard Errors assume that the covariance matrix of the errors is correctly specified.\n"
     ]
    }
   ],
   "source": [
    "predictors=['curbweight','horsepower','CarName_audi', 'CarName_bmw','CarName_buick', 'CarName_jaguar',\n",
    "            'CarName_porsche', 'CarName_volvo','fueltype_gas','carbody_hatchback',\n",
    "            'carbody_sedan', 'carbody_wagon', 'cylindernumber_six','cylindernumber_two',\n",
    "            'drivewheel_fwd', 'drivewheel_rwd', 'enginelocation_rear']\n",
    "model=wrapperModel(predictors)"
   ]
  },
  {
   "cell_type": "code",
   "execution_count": 118,
   "metadata": {},
   "outputs": [
    {
     "name": "stdout",
     "output_type": "stream",
     "text": [
      "                            OLS Regression Results                            \n",
      "==============================================================================\n",
      "Dep. Variable:                  price   R-squared:                       0.942\n",
      "Model:                            OLS   Adj. R-squared:                  0.935\n",
      "Method:                 Least Squares   F-statistic:                     137.0\n",
      "Date:                Sun, 19 Aug 2018   Prob (F-statistic):           1.78e-75\n",
      "Time:                        18:34:04   Log-Likelihood:                -1371.7\n",
      "No. Observations:                 153   AIC:                             2777.\n",
      "Df Residuals:                     136   BIC:                             2829.\n",
      "Df Model:                          16                                         \n",
      "Covariance Type:            nonrobust                                         \n",
      "=======================================================================================\n",
      "                          coef    std err          t      P>|t|      [0.025      0.975]\n",
      "---------------------------------------------------------------------------------------\n",
      "const                5219.2066   1581.651      3.300      0.001    2091.395    8347.018\n",
      "curbweight           1.489e+04   2277.949      6.535      0.000    1.04e+04    1.94e+04\n",
      "horsepower           1.154e+04   2370.359      4.868      0.000    6852.561    1.62e+04\n",
      "CarName_audi         4521.5578    936.612      4.828      0.000    2669.351    6373.764\n",
      "CarName_bmw           1.12e+04    970.216     11.541      0.000    9278.777    1.31e+04\n",
      "CarName_buick        1.017e+04   1117.518      9.100      0.000    7959.066    1.24e+04\n",
      "CarName_jaguar       9599.3781   1433.783      6.695      0.000    6763.985    1.24e+04\n",
      "CarName_porsche      7193.8388   1664.802      4.321      0.000    3901.591    1.05e+04\n",
      "CarName_volvo        3553.8600    942.555      3.770      0.000    1689.901    5417.819\n",
      "fueltype_gas        -1359.2083    731.045     -1.859      0.065   -2804.893      86.477\n",
      "carbody_hatchback   -2511.5104    911.469     -2.755      0.007   -4313.996    -709.025\n",
      "carbody_sedan       -2021.7703    912.155     -2.216      0.028   -3825.612    -217.929\n",
      "carbody_wagon       -3091.0138   1004.306     -3.078      0.003   -5077.090   -1104.938\n",
      "cylindernumber_two   2416.8276   1146.296      2.108      0.037     149.957    4683.698\n",
      "drivewheel_fwd       1083.1385    798.483      1.356      0.177    -495.911    2662.188\n",
      "drivewheel_rwd        966.4179    921.531      1.049      0.296    -855.966    2788.802\n",
      "enginelocation_rear  8413.5941   2214.214      3.800      0.000    4034.851    1.28e+04\n",
      "==============================================================================\n",
      "Omnibus:                       40.361   Durbin-Watson:                   1.975\n",
      "Prob(Omnibus):                  0.000   Jarque-Bera (JB):              168.413\n",
      "Skew:                           0.869   Prob(JB):                     2.69e-37\n",
      "Kurtosis:                       7.837   Cond. No.                         34.9\n",
      "==============================================================================\n",
      "\n",
      "Warnings:\n",
      "[1] Standard Errors assume that the covariance matrix of the errors is correctly specified.\n"
     ]
    }
   ],
   "source": [
    "predictors=['curbweight','horsepower','CarName_audi', 'CarName_bmw','CarName_buick', 'CarName_jaguar',\n",
    "            'CarName_porsche', 'CarName_volvo','fueltype_gas','carbody_hatchback',\n",
    "            'carbody_sedan', 'carbody_wagon','cylindernumber_two',\n",
    "            'drivewheel_fwd', 'drivewheel_rwd', 'enginelocation_rear']\n",
    "model=wrapperModel(predictors)"
   ]
  },
  {
   "cell_type": "code",
   "execution_count": 119,
   "metadata": {},
   "outputs": [
    {
     "name": "stdout",
     "output_type": "stream",
     "text": [
      "                            OLS Regression Results                            \n",
      "==============================================================================\n",
      "Dep. Variable:                  price   R-squared:                       0.941\n",
      "Model:                            OLS   Adj. R-squared:                  0.935\n",
      "Method:                 Least Squares   F-statistic:                     156.6\n",
      "Date:                Sun, 19 Aug 2018   Prob (F-statistic):           2.81e-77\n",
      "Time:                        18:34:04   Log-Likelihood:                -1372.7\n",
      "No. Observations:                 153   AIC:                             2775.\n",
      "Df Residuals:                     138   BIC:                             2821.\n",
      "Df Model:                          14                                         \n",
      "Covariance Type:            nonrobust                                         \n",
      "=======================================================================================\n",
      "                          coef    std err          t      P>|t|      [0.025      0.975]\n",
      "---------------------------------------------------------------------------------------\n",
      "const                6448.3116   1295.731      4.977      0.000    3886.258    9010.365\n",
      "curbweight           1.439e+04   2010.007      7.161      0.000    1.04e+04    1.84e+04\n",
      "horsepower           1.188e+04   2350.894      5.054      0.000    7232.054    1.65e+04\n",
      "CarName_audi         4299.6625    882.004      4.875      0.000    2555.672    6043.653\n",
      "CarName_bmw           1.12e+04    921.888     12.152      0.000    9379.884     1.3e+04\n",
      "CarName_buick        1.027e+04   1113.928      9.219      0.000    8066.580    1.25e+04\n",
      "CarName_jaguar       9712.6930   1428.777      6.798      0.000    6887.567    1.25e+04\n",
      "CarName_porsche      7099.0951   1641.761      4.324      0.000    3852.835    1.03e+04\n",
      "CarName_volvo        3592.6081    903.083      3.978      0.000    1806.938    5378.278\n",
      "fueltype_gas        -1469.1215    725.306     -2.026      0.045   -2903.271     -34.972\n",
      "carbody_hatchback   -2504.1115    894.164     -2.801      0.006   -4272.146    -736.077\n",
      "carbody_sedan       -2024.3232    884.283     -2.289      0.024   -3772.818    -275.828\n",
      "carbody_wagon       -3192.2715    957.004     -3.336      0.001   -5084.560   -1299.983\n",
      "cylindernumber_two   2346.0331   1051.257      2.232      0.027     267.380    4424.687\n",
      "enginelocation_rear  8376.8106   2211.832      3.787      0.000    4003.347    1.28e+04\n",
      "==============================================================================\n",
      "Omnibus:                       39.525   Durbin-Watson:                   2.000\n",
      "Prob(Omnibus):                  0.000   Jarque-Bera (JB):              161.848\n",
      "Skew:                           0.854   Prob(JB):                     7.16e-36\n",
      "Kurtosis:                       7.740   Cond. No.                         30.2\n",
      "==============================================================================\n",
      "\n",
      "Warnings:\n",
      "[1] Standard Errors assume that the covariance matrix of the errors is correctly specified.\n"
     ]
    }
   ],
   "source": [
    "predictors=['curbweight','horsepower','CarName_audi', 'CarName_bmw','CarName_buick', 'CarName_jaguar',\n",
    "            'CarName_porsche', 'CarName_volvo','fueltype_gas','carbody_hatchback',\n",
    "            'carbody_sedan', 'carbody_wagon','cylindernumber_two','enginelocation_rear']\n",
    "model=wrapperModel(predictors)"
   ]
  },
  {
   "cell_type": "markdown",
   "metadata": {},
   "source": [
    "##### Adding final set of predictors - enginetype and fuel system"
   ]
  },
  {
   "cell_type": "code",
   "execution_count": 120,
   "metadata": {},
   "outputs": [
    {
     "name": "stdout",
     "output_type": "stream",
     "text": [
      "                            OLS Regression Results                            \n",
      "==============================================================================\n",
      "Dep. Variable:                  price   R-squared:                       0.943\n",
      "Model:                            OLS   Adj. R-squared:                  0.933\n",
      "Method:                 Least Squares   F-statistic:                     88.76\n",
      "Date:                Sun, 19 Aug 2018   Prob (F-statistic):           4.34e-68\n",
      "Time:                        18:34:04   Log-Likelihood:                -1369.4\n",
      "No. Observations:                 153   AIC:                             2789.\n",
      "Df Residuals:                     128   BIC:                             2865.\n",
      "Df Model:                          24                                         \n",
      "Covariance Type:            nonrobust                                         \n",
      "=======================================================================================\n",
      "                          coef    std err          t      P>|t|      [0.025      0.975]\n",
      "---------------------------------------------------------------------------------------\n",
      "const                3972.8449    960.475      4.136      0.000    2072.381    5873.309\n",
      "curbweight           1.366e+04   2480.720      5.508      0.000    8755.089    1.86e+04\n",
      "horsepower            1.39e+04   3376.477      4.118      0.000    7223.150    2.06e+04\n",
      "CarName_audi         4287.8914    986.781      4.345      0.000    2335.377    6240.406\n",
      "CarName_bmw          1.113e+04   1048.401     10.613      0.000    9052.095    1.32e+04\n",
      "CarName_buick        1.017e+04   1288.645      7.891      0.000    7618.770    1.27e+04\n",
      "CarName_jaguar       9218.1877   1568.149      5.878      0.000    6115.336    1.23e+04\n",
      "CarName_porsche      7375.3368   2152.594      3.426      0.001    3116.062    1.16e+04\n",
      "CarName_volvo        3568.0145    975.978      3.656      0.000    1636.876    5499.153\n",
      "fueltype_gas         1386.0077    668.601      2.073      0.040      63.067    2708.949\n",
      "carbody_hatchback   -2371.9737    953.601     -2.487      0.014   -4258.836    -485.112\n",
      "carbody_sedan       -1982.7868    946.532     -2.095      0.038   -3855.663    -109.911\n",
      "carbody_wagon       -3081.4256   1032.964     -2.983      0.003   -5125.321   -1037.530\n",
      "cylindernumber_two   1400.0087   1095.451      1.278      0.204    -767.529    3567.546\n",
      "enginelocation_rear  7939.3896   2929.723      2.710      0.008    2142.432    1.37e+04\n",
      "enginetype_dohcv    -2273.5475   3304.197     -0.688      0.493   -8811.466    4264.371\n",
      "enginetype_l          190.1011   1159.641      0.164      0.870   -2104.446    2484.648\n",
      "enginetype_ohc       -139.2123    922.775     -0.151      0.880   -1965.081    1686.657\n",
      "enginetype_ohcf      -648.3321   1070.761     -0.605      0.546   -2767.016    1470.352\n",
      "enginetype_ohcv        49.8005   1004.868      0.050      0.961   -1938.503    2038.104\n",
      "enginetype_rotor     1400.0087   1095.451      1.278      0.204    -767.529    3567.546\n",
      "fuelsystem_2bbl      -227.4267    749.012     -0.304      0.762   -1709.474    1254.621\n",
      "fuelsystem_4bbl     -1448.8908   2516.883     -0.576      0.566   -6428.975    3531.193\n",
      "fuelsystem_idi       2586.8371    745.905      3.468      0.001    1110.936    4062.738\n",
      "fuelsystem_mfi      -2515.2464   2275.678     -1.105      0.271   -7018.065    1987.572\n",
      "fuelsystem_mpfi      -545.8130    850.792     -0.642      0.522   -2229.250    1137.624\n",
      "fuelsystem_spdi     -1999.4566   1173.139     -1.704      0.091   -4320.713     321.800\n",
      "==============================================================================\n",
      "Omnibus:                       39.270   Durbin-Watson:                   2.096\n",
      "Prob(Omnibus):                  0.000   Jarque-Bera (JB):              169.363\n",
      "Skew:                           0.827   Prob(JB):                     1.67e-37\n",
      "Kurtosis:                       7.882   Cond. No.                     1.22e+16\n",
      "==============================================================================\n",
      "\n",
      "Warnings:\n",
      "[1] Standard Errors assume that the covariance matrix of the errors is correctly specified.\n",
      "[2] The smallest eigenvalue is 3.38e-30. This might indicate that there are\n",
      "strong multicollinearity problems or that the design matrix is singular.\n"
     ]
    }
   ],
   "source": [
    "predictors=['curbweight','horsepower','CarName_audi', 'CarName_bmw','CarName_buick', 'CarName_jaguar',\n",
    "            'CarName_porsche', 'CarName_volvo','fueltype_gas','carbody_hatchback',\n",
    "            'carbody_sedan', 'carbody_wagon','cylindernumber_two','enginelocation_rear',\n",
    "            'enginetype_dohcv', 'enginetype_l', 'enginetype_ohc', 'enginetype_ohcf','enginetype_ohcv',\n",
    "            'enginetype_rotor', 'fuelsystem_2bbl','fuelsystem_4bbl', 'fuelsystem_idi', \n",
    "            'fuelsystem_mfi','fuelsystem_mpfi', 'fuelsystem_spdi']\n",
    "model=wrapperModel(predictors)"
   ]
  },
  {
   "cell_type": "markdown",
   "metadata": {},
   "source": [
    "##### Removing insignicant predictors"
   ]
  },
  {
   "cell_type": "code",
   "execution_count": 121,
   "metadata": {},
   "outputs": [
    {
     "name": "stdout",
     "output_type": "stream",
     "text": [
      "                            OLS Regression Results                            \n",
      "==============================================================================\n",
      "Dep. Variable:                  price   R-squared:                       0.943\n",
      "Model:                            OLS   Adj. R-squared:                  0.934\n",
      "Method:                 Least Squares   F-statistic:                     109.4\n",
      "Date:                Sun, 19 Aug 2018   Prob (F-statistic):           5.17e-72\n",
      "Time:                        18:34:05   Log-Likelihood:                -1369.7\n",
      "No. Observations:                 153   AIC:                             2781.\n",
      "Df Residuals:                     132   BIC:                             2845.\n",
      "Df Model:                          20                                         \n",
      "Covariance Type:            nonrobust                                         \n",
      "=======================================================================================\n",
      "                          coef    std err          t      P>|t|      [0.025      0.975]\n",
      "---------------------------------------------------------------------------------------\n",
      "const                3787.5388    722.956      5.239      0.000    2357.460    5217.618\n",
      "curbweight           1.389e+04   2150.923      6.456      0.000    9632.177    1.81e+04\n",
      "horsepower           1.395e+04   3002.878      4.646      0.000    8012.455    1.99e+04\n",
      "CarName_audi         4160.7241    913.430      4.555      0.000    2353.869    5967.579\n",
      "CarName_bmw          1.099e+04    959.525     11.454      0.000    9092.839    1.29e+04\n",
      "CarName_buick        1.002e+04   1167.489      8.579      0.000    7706.852    1.23e+04\n",
      "CarName_jaguar       9109.0596   1502.673      6.062      0.000    6136.623    1.21e+04\n",
      "CarName_porsche      7241.4164   2083.654      3.475      0.001    3119.744    1.14e+04\n",
      "CarName_volvo        3447.1810    910.248      3.787      0.000    1646.620    5247.742\n",
      "fueltype_gas         1166.1522    382.325      3.050      0.003     409.875    1922.430\n",
      "carbody_hatchback   -2353.7508    920.796     -2.556      0.012   -4175.176    -532.325\n",
      "carbody_sedan       -1978.3013    908.151     -2.178      0.031   -3774.713    -181.889\n",
      "carbody_wagon       -3077.9727    993.284     -3.099      0.002   -5042.786   -1113.159\n",
      "cylindernumber_two    972.6176    544.077      1.788      0.076    -103.620    2048.855\n",
      "enginelocation_rear  8001.5810   2846.322      2.811      0.006    2371.275    1.36e+04\n",
      "enginetype_dohcv    -2214.4820   3231.215     -0.685      0.494   -8606.145    4177.181\n",
      "enginetype_ohcf      -565.9837    657.699     -0.861      0.391   -1866.977     735.009\n",
      "enginetype_ohcv        72.3572    887.229      0.082      0.935   -1682.670    1827.384\n",
      "enginetype_rotor      972.6176    544.077      1.788      0.076    -103.620    2048.855\n",
      "fuelsystem_idi       2621.3866    647.983      4.045      0.000    1339.613    3903.160\n",
      "fuelsystem_mfi      -2401.6585   2149.775     -1.117      0.266   -6654.127    1850.810\n",
      "fuelsystem_mpfi      -295.0434    554.565     -0.532      0.596   -1392.029     801.942\n",
      "fuelsystem_spdi     -1848.9905    985.812     -1.876      0.063   -3799.023     101.042\n",
      "==============================================================================\n",
      "Omnibus:                       37.683   Durbin-Watson:                   2.089\n",
      "Prob(Omnibus):                  0.000   Jarque-Bera (JB):              156.383\n",
      "Skew:                           0.799   Prob(JB):                     1.10e-34\n",
      "Kurtosis:                       7.688   Cond. No.                     1.24e+17\n",
      "==============================================================================\n",
      "\n",
      "Warnings:\n",
      "[1] Standard Errors assume that the covariance matrix of the errors is correctly specified.\n",
      "[2] The smallest eigenvalue is 2.64e-32. This might indicate that there are\n",
      "strong multicollinearity problems or that the design matrix is singular.\n"
     ]
    }
   ],
   "source": [
    "predictors=['curbweight','horsepower','CarName_audi', 'CarName_bmw','CarName_buick', 'CarName_jaguar',\n",
    "            'CarName_porsche', 'CarName_volvo','fueltype_gas','carbody_hatchback',\n",
    "            'carbody_sedan', 'carbody_wagon','cylindernumber_two','enginelocation_rear',\n",
    "            'enginetype_dohcv','enginetype_ohcf','enginetype_ohcv','enginetype_rotor', \n",
    "            'fuelsystem_idi','fuelsystem_mfi','fuelsystem_mpfi', 'fuelsystem_spdi']\n",
    "model=wrapperModel(predictors)"
   ]
  },
  {
   "cell_type": "code",
   "execution_count": 122,
   "metadata": {},
   "outputs": [
    {
     "name": "stdout",
     "output_type": "stream",
     "text": [
      "                            OLS Regression Results                            \n",
      "==============================================================================\n",
      "Dep. Variable:                  price   R-squared:                       0.941\n",
      "Model:                            OLS   Adj. R-squared:                  0.934\n",
      "Method:                 Least Squares   F-statistic:                     136.4\n",
      "Date:                Sun, 19 Aug 2018   Prob (F-statistic):           2.26e-75\n",
      "Time:                        18:34:05   Log-Likelihood:                -1372.0\n",
      "No. Observations:                 153   AIC:                             2778.\n",
      "Df Residuals:                     136   BIC:                             2829.\n",
      "Df Model:                          16                                         \n",
      "Covariance Type:            nonrobust                                         \n",
      "=======================================================================================\n",
      "                          coef    std err          t      P>|t|      [0.025      0.975]\n",
      "---------------------------------------------------------------------------------------\n",
      "const                3790.4581    718.980      5.272      0.000    2368.632    5212.285\n",
      "curbweight           1.431e+04   2019.282      7.088      0.000    1.03e+04    1.83e+04\n",
      "horsepower           1.209e+04   2364.298      5.114      0.000    7415.322    1.68e+04\n",
      "CarName_audi         4217.0831    887.189      4.753      0.000    2462.614    5971.552\n",
      "CarName_bmw          1.112e+04    927.008     11.994      0.000    9285.474     1.3e+04\n",
      "CarName_buick        1.023e+04   1117.704      9.155      0.000    8022.023    1.24e+04\n",
      "CarName_jaguar       9603.4708   1436.143      6.687      0.000    6763.412    1.24e+04\n",
      "CarName_porsche      6953.1604   1652.149      4.209      0.000    3685.936    1.02e+04\n",
      "CarName_volvo        3520.6145    907.501      3.879      0.000    1725.977    5315.252\n",
      "fueltype_gas         1177.2536    361.964      3.252      0.001     461.447    1893.060\n",
      "carbody_hatchback   -2443.7719    897.991     -2.721      0.007   -4219.605    -667.939\n",
      "carbody_sedan       -1961.1921    889.167     -2.206      0.029   -3719.573    -202.811\n",
      "carbody_wagon       -3079.4231    969.370     -3.177      0.002   -4996.412   -1162.435\n",
      "cylindernumber_two   1136.1309    527.893      2.152      0.033      92.190    2180.072\n",
      "enginelocation_rear  8945.2292   2314.910      3.864      0.000    4367.354    1.35e+04\n",
      "enginetype_ohcf      -509.8627    655.395     -0.778      0.438   -1805.947     786.221\n",
      "enginetype_rotor     1136.1309    527.893      2.152      0.033      92.190    2180.072\n",
      "fuelsystem_idi       2613.2045    626.860      4.169      0.000    1373.552    3852.857\n",
      "fuelsystem_mfi      -1791.4305   2057.476     -0.871      0.385   -5860.213    2277.352\n",
      "==============================================================================\n",
      "Omnibus:                       39.338   Durbin-Watson:                   1.997\n",
      "Prob(Omnibus):                  0.000   Jarque-Bera (JB):              166.569\n",
      "Skew:                           0.836   Prob(JB):                     6.76e-37\n",
      "Kurtosis:                       7.830   Cond. No.                     1.99e+17\n",
      "==============================================================================\n",
      "\n",
      "Warnings:\n",
      "[1] Standard Errors assume that the covariance matrix of the errors is correctly specified.\n",
      "[2] The smallest eigenvalue is 9.41e-33. This might indicate that there are\n",
      "strong multicollinearity problems or that the design matrix is singular.\n"
     ]
    }
   ],
   "source": [
    "predictors=['curbweight','horsepower','CarName_audi', 'CarName_bmw','CarName_buick', 'CarName_jaguar',\n",
    "            'CarName_porsche', 'CarName_volvo','fueltype_gas','carbody_hatchback',\n",
    "            'carbody_sedan', 'carbody_wagon','cylindernumber_two','enginelocation_rear',\n",
    "            'enginetype_ohcf','enginetype_rotor', 'fuelsystem_idi','fuelsystem_mfi']\n",
    "model=wrapperModel(predictors)"
   ]
  },
  {
   "cell_type": "code",
   "execution_count": 123,
   "metadata": {},
   "outputs": [
    {
     "name": "stdout",
     "output_type": "stream",
     "text": [
      "                            OLS Regression Results                            \n",
      "==============================================================================\n",
      "Dep. Variable:                  price   R-squared:                       0.941\n",
      "Model:                            OLS   Adj. R-squared:                  0.935\n",
      "Method:                 Least Squares   F-statistic:                     156.6\n",
      "Date:                Sun, 19 Aug 2018   Prob (F-statistic):           2.81e-77\n",
      "Time:                        18:34:05   Log-Likelihood:                -1372.7\n",
      "No. Observations:                 153   AIC:                             2775.\n",
      "Df Residuals:                     138   BIC:                             2821.\n",
      "Df Model:                          14                                         \n",
      "Covariance Type:            nonrobust                                         \n",
      "=======================================================================================\n",
      "                          coef    std err          t      P>|t|      [0.025      0.975]\n",
      "---------------------------------------------------------------------------------------\n",
      "const                3809.1672    716.597      5.316      0.000    2392.236    5226.098\n",
      "curbweight           1.439e+04   2010.007      7.161      0.000    1.04e+04    1.84e+04\n",
      "horsepower           1.188e+04   2350.894      5.054      0.000    7232.054    1.65e+04\n",
      "CarName_audi         4299.6625    882.004      4.875      0.000    2555.672    6043.653\n",
      "CarName_bmw           1.12e+04    921.888     12.152      0.000    9379.884     1.3e+04\n",
      "CarName_buick        1.027e+04   1113.928      9.219      0.000    8066.580    1.25e+04\n",
      "CarName_jaguar       9712.6930   1428.777      6.798      0.000    6887.567    1.25e+04\n",
      "CarName_porsche      7099.0951   1641.761      4.324      0.000    3852.835    1.03e+04\n",
      "CarName_volvo        3592.6081    903.083      3.978      0.000    1806.938    5378.278\n",
      "fueltype_gas         1170.0229    359.484      3.255      0.001     459.214    1880.831\n",
      "carbody_hatchback   -2504.1115    894.164     -2.801      0.006   -4272.146    -736.077\n",
      "carbody_sedan       -2024.3232    884.283     -2.289      0.024   -3772.818    -275.828\n",
      "carbody_wagon       -3192.2715    957.004     -3.336      0.001   -5084.560   -1299.983\n",
      "cylindernumber_two   1173.0166    525.628      2.232      0.027     133.690    2212.343\n",
      "enginelocation_rear  8376.8106   2211.832      3.787      0.000    4003.347    1.28e+04\n",
      "enginetype_rotor     1173.0166    525.628      2.232      0.027     133.690    2212.343\n",
      "fuelsystem_idi       2639.1443    624.949      4.223      0.000    1403.430    3874.859\n",
      "==============================================================================\n",
      "Omnibus:                       39.525   Durbin-Watson:                   2.000\n",
      "Prob(Omnibus):                  0.000   Jarque-Bera (JB):              161.848\n",
      "Skew:                           0.854   Prob(JB):                     7.16e-36\n",
      "Kurtosis:                       7.740   Cond. No.                     1.95e+17\n",
      "==============================================================================\n",
      "\n",
      "Warnings:\n",
      "[1] Standard Errors assume that the covariance matrix of the errors is correctly specified.\n",
      "[2] The smallest eigenvalue is 9.84e-33. This might indicate that there are\n",
      "strong multicollinearity problems or that the design matrix is singular.\n"
     ]
    }
   ],
   "source": [
    "predictors=['curbweight','horsepower','CarName_audi', 'CarName_bmw','CarName_buick', 'CarName_jaguar',\n",
    "            'CarName_porsche', 'CarName_volvo','fueltype_gas','carbody_hatchback',\n",
    "            'carbody_sedan', 'carbody_wagon','cylindernumber_two','enginelocation_rear',\n",
    "            'enginetype_rotor', 'fuelsystem_idi']\n",
    "model=wrapperModel(predictors)"
   ]
  },
  {
   "cell_type": "markdown",
   "metadata": {},
   "source": [
    "##### Now we have a good set of predictors with p value in range. Lets further do multi- collinearity analysis "
   ]
  },
  {
   "cell_type": "code",
   "execution_count": 124,
   "metadata": {},
   "outputs": [
    {
     "data": {
      "text/html": [
       "<div>\n",
       "<style>\n",
       "    .dataframe thead tr:only-child th {\n",
       "        text-align: right;\n",
       "    }\n",
       "\n",
       "    .dataframe thead th {\n",
       "        text-align: left;\n",
       "    }\n",
       "\n",
       "    .dataframe tbody tr th {\n",
       "        vertical-align: top;\n",
       "    }\n",
       "</style>\n",
       "<table border=\"1\" class=\"dataframe\">\n",
       "  <thead>\n",
       "    <tr style=\"text-align: right;\">\n",
       "      <th></th>\n",
       "      <th>Var</th>\n",
       "      <th>Vif</th>\n",
       "    </tr>\n",
       "  </thead>\n",
       "  <tbody>\n",
       "    <tr>\n",
       "      <th>8</th>\n",
       "      <td>fueltype_gas</td>\n",
       "      <td>100000.00</td>\n",
       "    </tr>\n",
       "    <tr>\n",
       "      <th>12</th>\n",
       "      <td>cylindernumber_two</td>\n",
       "      <td>100000.00</td>\n",
       "    </tr>\n",
       "    <tr>\n",
       "      <th>14</th>\n",
       "      <td>enginetype_rotor</td>\n",
       "      <td>100000.00</td>\n",
       "    </tr>\n",
       "    <tr>\n",
       "      <th>15</th>\n",
       "      <td>fuelsystem_idi</td>\n",
       "      <td>100000.00</td>\n",
       "    </tr>\n",
       "    <tr>\n",
       "      <th>10</th>\n",
       "      <td>carbody_sedan</td>\n",
       "      <td>7.39</td>\n",
       "    </tr>\n",
       "    <tr>\n",
       "      <th>9</th>\n",
       "      <td>carbody_hatchback</td>\n",
       "      <td>6.74</td>\n",
       "    </tr>\n",
       "    <tr>\n",
       "      <th>0</th>\n",
       "      <td>curbweight</td>\n",
       "      <td>6.45</td>\n",
       "    </tr>\n",
       "    <tr>\n",
       "      <th>1</th>\n",
       "      <td>horsepower</td>\n",
       "      <td>5.79</td>\n",
       "    </tr>\n",
       "    <tr>\n",
       "      <th>11</th>\n",
       "      <td>carbody_wagon</td>\n",
       "      <td>4.28</td>\n",
       "    </tr>\n",
       "    <tr>\n",
       "      <th>6</th>\n",
       "      <td>CarName_porsche</td>\n",
       "      <td>2.60</td>\n",
       "    </tr>\n",
       "    <tr>\n",
       "      <th>13</th>\n",
       "      <td>enginelocation_rear</td>\n",
       "      <td>2.40</td>\n",
       "    </tr>\n",
       "    <tr>\n",
       "      <th>4</th>\n",
       "      <td>CarName_buick</td>\n",
       "      <td>1.49</td>\n",
       "    </tr>\n",
       "    <tr>\n",
       "      <th>5</th>\n",
       "      <td>CarName_jaguar</td>\n",
       "      <td>1.49</td>\n",
       "    </tr>\n",
       "    <tr>\n",
       "      <th>3</th>\n",
       "      <td>CarName_bmw</td>\n",
       "      <td>1.22</td>\n",
       "    </tr>\n",
       "    <tr>\n",
       "      <th>7</th>\n",
       "      <td>CarName_volvo</td>\n",
       "      <td>1.17</td>\n",
       "    </tr>\n",
       "    <tr>\n",
       "      <th>2</th>\n",
       "      <td>CarName_audi</td>\n",
       "      <td>1.11</td>\n",
       "    </tr>\n",
       "  </tbody>\n",
       "</table>\n",
       "</div>"
      ],
      "text/plain": [
       "                    Var        Vif\n",
       "8          fueltype_gas  100000.00\n",
       "12   cylindernumber_two  100000.00\n",
       "14     enginetype_rotor  100000.00\n",
       "15       fuelsystem_idi  100000.00\n",
       "10        carbody_sedan       7.39\n",
       "9     carbody_hatchback       6.74\n",
       "0            curbweight       6.45\n",
       "1            horsepower       5.79\n",
       "11        carbody_wagon       4.28\n",
       "6       CarName_porsche       2.60\n",
       "13  enginelocation_rear       2.40\n",
       "4         CarName_buick       1.49\n",
       "5        CarName_jaguar       1.49\n",
       "3           CarName_bmw       1.22\n",
       "7         CarName_volvo       1.17\n",
       "2          CarName_audi       1.11"
      ]
     },
     "execution_count": 124,
     "metadata": {},
     "output_type": "execute_result"
    }
   ],
   "source": [
    "predictors=['curbweight','horsepower','CarName_audi', 'CarName_bmw','CarName_buick', 'CarName_jaguar',\n",
    "            'CarName_porsche', 'CarName_volvo','fueltype_gas','carbody_hatchback',\n",
    "            'carbody_sedan', 'carbody_wagon','cylindernumber_two','enginelocation_rear',\n",
    "            'enginetype_rotor', 'fuelsystem_idi']\n",
    "vif_cal(X_train[predictors])"
   ]
  },
  {
   "cell_type": "markdown",
   "metadata": {},
   "source": [
    "##### Lets remove variables with high VIF"
   ]
  },
  {
   "cell_type": "code",
   "execution_count": 125,
   "metadata": {},
   "outputs": [
    {
     "name": "stdout",
     "output_type": "stream",
     "text": [
      "                            OLS Regression Results                            \n",
      "==============================================================================\n",
      "Dep. Variable:                  price   R-squared:                       0.941\n",
      "Model:                            OLS   Adj. R-squared:                  0.935\n",
      "Method:                 Least Squares   F-statistic:                     156.6\n",
      "Date:                Sun, 19 Aug 2018   Prob (F-statistic):           2.81e-77\n",
      "Time:                        18:34:05   Log-Likelihood:                -1372.7\n",
      "No. Observations:                 153   AIC:                             2775.\n",
      "Df Residuals:                     138   BIC:                             2821.\n",
      "Df Model:                          14                                         \n",
      "Covariance Type:            nonrobust                                         \n",
      "=======================================================================================\n",
      "                          coef    std err          t      P>|t|      [0.025      0.975]\n",
      "---------------------------------------------------------------------------------------\n",
      "const                4979.1901    946.002      5.263      0.000    3108.657    6849.723\n",
      "curbweight           1.439e+04   2010.007      7.161      0.000    1.04e+04    1.84e+04\n",
      "horsepower           1.188e+04   2350.894      5.054      0.000    7232.054    1.65e+04\n",
      "CarName_audi         4299.6625    882.004      4.875      0.000    2555.672    6043.653\n",
      "CarName_bmw           1.12e+04    921.888     12.152      0.000    9379.884     1.3e+04\n",
      "CarName_buick        1.027e+04   1113.928      9.219      0.000    8066.580    1.25e+04\n",
      "CarName_jaguar       9712.6930   1428.777      6.798      0.000    6887.567    1.25e+04\n",
      "CarName_porsche      7099.0951   1641.761      4.324      0.000    3852.835    1.03e+04\n",
      "CarName_volvo        3592.6081    903.083      3.978      0.000    1806.938    5378.278\n",
      "carbody_hatchback   -2504.1115    894.164     -2.801      0.006   -4272.146    -736.077\n",
      "carbody_sedan       -2024.3232    884.283     -2.289      0.024   -3772.818    -275.828\n",
      "carbody_wagon       -3192.2715    957.004     -3.336      0.001   -5084.560   -1299.983\n",
      "enginelocation_rear  8376.8106   2211.832      3.787      0.000    4003.347    1.28e+04\n",
      "enginetype_rotor     2346.0331   1051.257      2.232      0.027     267.380    4424.687\n",
      "fuelsystem_idi       1469.1215    725.306      2.026      0.045      34.972    2903.271\n",
      "==============================================================================\n",
      "Omnibus:                       39.525   Durbin-Watson:                   2.000\n",
      "Prob(Omnibus):                  0.000   Jarque-Bera (JB):              161.848\n",
      "Skew:                           0.854   Prob(JB):                     7.16e-36\n",
      "Kurtosis:                       7.740   Cond. No.                         24.1\n",
      "==============================================================================\n",
      "\n",
      "Warnings:\n",
      "[1] Standard Errors assume that the covariance matrix of the errors is correctly specified.\n"
     ]
    },
    {
     "data": {
      "text/html": [
       "<div>\n",
       "<style>\n",
       "    .dataframe thead tr:only-child th {\n",
       "        text-align: right;\n",
       "    }\n",
       "\n",
       "    .dataframe thead th {\n",
       "        text-align: left;\n",
       "    }\n",
       "\n",
       "    .dataframe tbody tr th {\n",
       "        vertical-align: top;\n",
       "    }\n",
       "</style>\n",
       "<table border=\"1\" class=\"dataframe\">\n",
       "  <thead>\n",
       "    <tr style=\"text-align: right;\">\n",
       "      <th></th>\n",
       "      <th>Var</th>\n",
       "      <th>Vif</th>\n",
       "    </tr>\n",
       "  </thead>\n",
       "  <tbody>\n",
       "    <tr>\n",
       "      <th>9</th>\n",
       "      <td>carbody_sedan</td>\n",
       "      <td>7.39</td>\n",
       "    </tr>\n",
       "    <tr>\n",
       "      <th>8</th>\n",
       "      <td>carbody_hatchback</td>\n",
       "      <td>6.74</td>\n",
       "    </tr>\n",
       "    <tr>\n",
       "      <th>0</th>\n",
       "      <td>curbweight</td>\n",
       "      <td>6.45</td>\n",
       "    </tr>\n",
       "    <tr>\n",
       "      <th>1</th>\n",
       "      <td>horsepower</td>\n",
       "      <td>5.79</td>\n",
       "    </tr>\n",
       "    <tr>\n",
       "      <th>10</th>\n",
       "      <td>carbody_wagon</td>\n",
       "      <td>4.28</td>\n",
       "    </tr>\n",
       "    <tr>\n",
       "      <th>6</th>\n",
       "      <td>CarName_porsche</td>\n",
       "      <td>2.60</td>\n",
       "    </tr>\n",
       "    <tr>\n",
       "      <th>11</th>\n",
       "      <td>enginelocation_rear</td>\n",
       "      <td>2.40</td>\n",
       "    </tr>\n",
       "    <tr>\n",
       "      <th>13</th>\n",
       "      <td>fuelsystem_idi</td>\n",
       "      <td>1.77</td>\n",
       "    </tr>\n",
       "    <tr>\n",
       "      <th>4</th>\n",
       "      <td>CarName_buick</td>\n",
       "      <td>1.49</td>\n",
       "    </tr>\n",
       "    <tr>\n",
       "      <th>5</th>\n",
       "      <td>CarName_jaguar</td>\n",
       "      <td>1.49</td>\n",
       "    </tr>\n",
       "    <tr>\n",
       "      <th>3</th>\n",
       "      <td>CarName_bmw</td>\n",
       "      <td>1.22</td>\n",
       "    </tr>\n",
       "    <tr>\n",
       "      <th>7</th>\n",
       "      <td>CarName_volvo</td>\n",
       "      <td>1.17</td>\n",
       "    </tr>\n",
       "    <tr>\n",
       "      <th>2</th>\n",
       "      <td>CarName_audi</td>\n",
       "      <td>1.11</td>\n",
       "    </tr>\n",
       "    <tr>\n",
       "      <th>12</th>\n",
       "      <td>enginetype_rotor</td>\n",
       "      <td>1.07</td>\n",
       "    </tr>\n",
       "  </tbody>\n",
       "</table>\n",
       "</div>"
      ],
      "text/plain": [
       "                    Var   Vif\n",
       "9         carbody_sedan  7.39\n",
       "8     carbody_hatchback  6.74\n",
       "0            curbweight  6.45\n",
       "1            horsepower  5.79\n",
       "10        carbody_wagon  4.28\n",
       "6       CarName_porsche  2.60\n",
       "11  enginelocation_rear  2.40\n",
       "13       fuelsystem_idi  1.77\n",
       "4         CarName_buick  1.49\n",
       "5        CarName_jaguar  1.49\n",
       "3           CarName_bmw  1.22\n",
       "7         CarName_volvo  1.17\n",
       "2          CarName_audi  1.11\n",
       "12     enginetype_rotor  1.07"
      ]
     },
     "execution_count": 125,
     "metadata": {},
     "output_type": "execute_result"
    }
   ],
   "source": [
    "predictors=['curbweight','horsepower','CarName_audi', 'CarName_bmw','CarName_buick', 'CarName_jaguar',\n",
    "            'CarName_porsche', 'CarName_volvo','carbody_hatchback','carbody_sedan',\n",
    "            'carbody_wagon','enginelocation_rear','enginetype_rotor', 'fuelsystem_idi']\n",
    "model=wrapperModel(predictors)\n",
    "vif_cal(X_train[predictors])"
   ]
  },
  {
   "cell_type": "code",
   "execution_count": 126,
   "metadata": {},
   "outputs": [
    {
     "name": "stdout",
     "output_type": "stream",
     "text": [
      "                            OLS Regression Results                            \n",
      "==============================================================================\n",
      "Dep. Variable:                  price   R-squared:                       0.939\n",
      "Model:                            OLS   Adj. R-squared:                  0.933\n",
      "Method:                 Least Squares   F-statistic:                     163.2\n",
      "Date:                Sun, 19 Aug 2018   Prob (F-statistic):           2.78e-77\n",
      "Time:                        18:34:06   Log-Likelihood:                -1375.6\n",
      "No. Observations:                 153   AIC:                             2779.\n",
      "Df Residuals:                     139   BIC:                             2822.\n",
      "Df Model:                          13                                         \n",
      "Covariance Type:            nonrobust                                         \n",
      "=======================================================================================\n",
      "                          coef    std err          t      P>|t|      [0.025      0.975]\n",
      "---------------------------------------------------------------------------------------\n",
      "const                3121.9335    493.891      6.321      0.000    2145.424    4098.443\n",
      "curbweight           1.447e+04   2040.176      7.091      0.000    1.04e+04    1.85e+04\n",
      "horsepower           1.202e+04   2385.731      5.036      0.000    7298.670    1.67e+04\n",
      "CarName_audi         4118.8105    891.758      4.619      0.000    2355.646    5881.975\n",
      "CarName_bmw          1.094e+04    928.715     11.783      0.000    9106.510    1.28e+04\n",
      "CarName_buick        1.058e+04   1122.443      9.424      0.000    8359.183    1.28e+04\n",
      "CarName_jaguar       9384.9427   1443.107      6.503      0.000    6531.663    1.22e+04\n",
      "CarName_porsche      6999.4779   1666.030      4.201      0.000    3705.440    1.03e+04\n",
      "CarName_volvo        3412.1093    913.255      3.736      0.000    1606.443    5217.776\n",
      "carbody_hatchback    -686.7756    417.701     -1.644      0.102   -1512.645     139.093\n",
      "carbody_wagon       -1373.5700    541.640     -2.536      0.012   -2444.489    -302.651\n",
      "enginelocation_rear  1.021e+04   2093.455      4.876      0.000    6068.188    1.43e+04\n",
      "enginetype_rotor     2324.9753   1067.131      2.179      0.031     215.068    4434.883\n",
      "fuelsystem_idi       1231.2858    728.694      1.690      0.093    -209.471    2672.042\n",
      "==============================================================================\n",
      "Omnibus:                       37.786   Durbin-Watson:                   1.994\n",
      "Prob(Omnibus):                  0.000   Jarque-Bera (JB):              136.459\n",
      "Skew:                           0.856   Prob(JB):                     2.34e-30\n",
      "Kurtosis:                       7.298   Cond. No.                         22.4\n",
      "==============================================================================\n",
      "\n",
      "Warnings:\n",
      "[1] Standard Errors assume that the covariance matrix of the errors is correctly specified.\n"
     ]
    }
   ],
   "source": [
    "predictors=['curbweight','horsepower','CarName_audi', 'CarName_bmw','CarName_buick', 'CarName_jaguar',\n",
    "            'CarName_porsche', 'CarName_volvo','carbody_hatchback','carbody_wagon',\n",
    "            'enginelocation_rear','enginetype_rotor', 'fuelsystem_idi']\n",
    "model=wrapperModel(predictors)"
   ]
  },
  {
   "cell_type": "code",
   "execution_count": 127,
   "metadata": {},
   "outputs": [
    {
     "name": "stdout",
     "output_type": "stream",
     "text": [
      "                            OLS Regression Results                            \n",
      "==============================================================================\n",
      "Dep. Variable:                  price   R-squared:                       0.937\n",
      "Model:                            OLS   Adj. R-squared:                  0.932\n",
      "Method:                 Least Squares   F-statistic:                     174.5\n",
      "Date:                Sun, 19 Aug 2018   Prob (F-statistic):           7.80e-78\n",
      "Time:                        18:34:06   Log-Likelihood:                -1377.1\n",
      "No. Observations:                 153   AIC:                             2780.\n",
      "Df Residuals:                     140   BIC:                             2820.\n",
      "Df Model:                          12                                         \n",
      "Covariance Type:            nonrobust                                         \n",
      "=======================================================================================\n",
      "                          coef    std err          t      P>|t|      [0.025      0.975]\n",
      "---------------------------------------------------------------------------------------\n",
      "const                2739.1885    438.231      6.251      0.000    1872.783    3605.594\n",
      "curbweight           1.513e+04   2011.925      7.520      0.000    1.12e+04    1.91e+04\n",
      "horsepower           1.125e+04   2354.339      4.779      0.000    6597.895    1.59e+04\n",
      "CarName_audi         4238.4878    894.173      4.740      0.000    2470.660    6006.316\n",
      "CarName_bmw          1.123e+04    917.627     12.238      0.000    9416.141     1.3e+04\n",
      "CarName_buick        1.061e+04   1129.082      9.397      0.000    8378.077    1.28e+04\n",
      "CarName_jaguar       9611.7220   1445.213      6.651      0.000    6754.458    1.25e+04\n",
      "CarName_porsche      6820.0190   1672.534      4.078      0.000    3513.330    1.01e+04\n",
      "CarName_volvo        3595.2329    911.935      3.942      0.000    1792.288    5398.178\n",
      "carbody_wagon       -1177.1572    531.507     -2.215      0.028   -2227.974    -126.340\n",
      "enginelocation_rear  1.094e+04   2057.509      5.318      0.000    6874.997     1.5e+04\n",
      "enginetype_rotor     1978.6722   1052.483      1.880      0.062    -102.144    4059.489\n",
      "fuelsystem_idi       1269.6525    732.737      1.733      0.085    -179.008    2718.313\n",
      "==============================================================================\n",
      "Omnibus:                       38.798   Durbin-Watson:                   2.015\n",
      "Prob(Omnibus):                  0.000   Jarque-Bera (JB):              133.081\n",
      "Skew:                           0.903   Prob(JB):                     1.26e-29\n",
      "Kurtosis:                       7.196   Cond. No.                         21.1\n",
      "==============================================================================\n",
      "\n",
      "Warnings:\n",
      "[1] Standard Errors assume that the covariance matrix of the errors is correctly specified.\n"
     ]
    }
   ],
   "source": [
    "predictors=['curbweight','horsepower','CarName_audi', 'CarName_bmw','CarName_buick', 'CarName_jaguar',\n",
    "            'CarName_porsche', 'CarName_volvo','carbody_wagon','enginelocation_rear','enginetype_rotor', 'fuelsystem_idi']\n",
    "model=wrapperModel(predictors)"
   ]
  },
  {
   "cell_type": "code",
   "execution_count": 128,
   "metadata": {},
   "outputs": [
    {
     "name": "stdout",
     "output_type": "stream",
     "text": [
      "                            OLS Regression Results                            \n",
      "==============================================================================\n",
      "Dep. Variable:                  price   R-squared:                       0.936\n",
      "Model:                            OLS   Adj. R-squared:                  0.931\n",
      "Method:                 Least Squares   F-statistic:                     187.4\n",
      "Date:                Sun, 19 Aug 2018   Prob (F-statistic):           2.44e-78\n",
      "Time:                        18:34:06   Log-Likelihood:                -1378.7\n",
      "No. Observations:                 153   AIC:                             2781.\n",
      "Df Residuals:                     141   BIC:                             2818.\n",
      "Df Model:                          11                                         \n",
      "Covariance Type:            nonrobust                                         \n",
      "=======================================================================================\n",
      "                          coef    std err          t      P>|t|      [0.025      0.975]\n",
      "---------------------------------------------------------------------------------------\n",
      "const                2615.9896    435.484      6.007      0.000    1755.067    3476.912\n",
      "curbweight            1.71e+04   1670.564     10.238      0.000    1.38e+04    2.04e+04\n",
      "horsepower           8995.8422   1975.182      4.554      0.000    5091.043    1.29e+04\n",
      "CarName_audi         4056.2057    894.246      4.536      0.000    2288.342    5824.070\n",
      "CarName_bmw          1.107e+04    919.233     12.039      0.000    9249.780    1.29e+04\n",
      "CarName_buick        1.068e+04   1136.249      9.404      0.000    8438.459    1.29e+04\n",
      "CarName_jaguar       9264.9341   1441.416      6.428      0.000    6415.354    1.21e+04\n",
      "CarName_porsche      7306.1240   1660.505      4.400      0.000    4023.419    1.06e+04\n",
      "CarName_volvo        3492.0145    916.426      3.810      0.000    1680.302    5303.727\n",
      "carbody_wagon       -1428.9497    514.874     -2.775      0.006   -2446.821    -411.079\n",
      "enginelocation_rear  1.109e+04   2070.351      5.356      0.000    6994.904    1.52e+04\n",
      "enginetype_rotor     1973.6752   1059.927      1.862      0.065    -121.727    4069.078\n",
      "==============================================================================\n",
      "Omnibus:                       40.087   Durbin-Watson:                   1.999\n",
      "Prob(Omnibus):                  0.000   Jarque-Bera (JB):              141.927\n",
      "Skew:                           0.926   Prob(JB):                     1.52e-31\n",
      "Kurtosis:                       7.340   Cond. No.                         17.3\n",
      "==============================================================================\n",
      "\n",
      "Warnings:\n",
      "[1] Standard Errors assume that the covariance matrix of the errors is correctly specified.\n"
     ]
    }
   ],
   "source": [
    "predictors=['curbweight','horsepower','CarName_audi', 'CarName_bmw','CarName_buick', 'CarName_jaguar',\n",
    "            'CarName_porsche', 'CarName_volvo','carbody_wagon','enginelocation_rear','enginetype_rotor']\n",
    "model=wrapperModel(predictors)"
   ]
  },
  {
   "cell_type": "code",
   "execution_count": 129,
   "metadata": {},
   "outputs": [
    {
     "name": "stdout",
     "output_type": "stream",
     "text": [
      "                            OLS Regression Results                            \n",
      "==============================================================================\n",
      "Dep. Variable:                  price   R-squared:                       0.934\n",
      "Model:                            OLS   Adj. R-squared:                  0.930\n",
      "Method:                 Least Squares   F-statistic:                     202.3\n",
      "Date:                Sun, 19 Aug 2018   Prob (F-statistic):           9.17e-79\n",
      "Time:                        18:34:06   Log-Likelihood:                -1380.5\n",
      "No. Observations:                 153   AIC:                             2783.\n",
      "Df Residuals:                     142   BIC:                             2816.\n",
      "Df Model:                          10                                         \n",
      "Covariance Type:            nonrobust                                         \n",
      "=======================================================================================\n",
      "                          coef    std err          t      P>|t|      [0.025      0.975]\n",
      "---------------------------------------------------------------------------------------\n",
      "const                2673.7598    438.135      6.103      0.000    1807.649    3539.871\n",
      "curbweight           1.693e+04   1682.277     10.061      0.000    1.36e+04    2.03e+04\n",
      "horsepower           9411.6395   1979.496      4.755      0.000    5498.550    1.33e+04\n",
      "CarName_audi         3969.7250    900.765      4.407      0.000    2189.083    5750.367\n",
      "CarName_bmw          1.096e+04    925.202     11.841      0.000    9126.204    1.28e+04\n",
      "CarName_buick        1.064e+04   1145.769      9.283      0.000    8370.653    1.29e+04\n",
      "CarName_jaguar       9110.3770   1451.472      6.277      0.000    6241.091     1.2e+04\n",
      "CarName_porsche      7067.0976   1669.857      4.232      0.000    3766.106    1.04e+04\n",
      "CarName_volvo        3417.5941    923.474      3.701      0.000    1592.060    5243.128\n",
      "carbody_wagon       -1474.8710    518.732     -2.843      0.005   -2500.306    -449.436\n",
      "enginelocation_rear  1.108e+04   2088.259      5.307      0.000    6954.261    1.52e+04\n",
      "==============================================================================\n",
      "Omnibus:                       37.215   Durbin-Watson:                   2.019\n",
      "Prob(Omnibus):                  0.000   Jarque-Bera (JB):              119.385\n",
      "Skew:                           0.887   Prob(JB):                     1.19e-26\n",
      "Kurtosis:                       6.947   Cond. No.                         17.2\n",
      "==============================================================================\n",
      "\n",
      "Warnings:\n",
      "[1] Standard Errors assume that the covariance matrix of the errors is correctly specified.\n"
     ]
    },
    {
     "data": {
      "text/html": [
       "<div>\n",
       "<style>\n",
       "    .dataframe thead tr:only-child th {\n",
       "        text-align: right;\n",
       "    }\n",
       "\n",
       "    .dataframe thead th {\n",
       "        text-align: left;\n",
       "    }\n",
       "\n",
       "    .dataframe tbody tr th {\n",
       "        vertical-align: top;\n",
       "    }\n",
       "</style>\n",
       "<table border=\"1\" class=\"dataframe\">\n",
       "  <thead>\n",
       "    <tr style=\"text-align: right;\">\n",
       "      <th></th>\n",
       "      <th>Var</th>\n",
       "      <th>Vif</th>\n",
       "    </tr>\n",
       "  </thead>\n",
       "  <tbody>\n",
       "    <tr>\n",
       "      <th>0</th>\n",
       "      <td>curbweight</td>\n",
       "      <td>4.20</td>\n",
       "    </tr>\n",
       "    <tr>\n",
       "      <th>1</th>\n",
       "      <td>horsepower</td>\n",
       "      <td>3.82</td>\n",
       "    </tr>\n",
       "    <tr>\n",
       "      <th>6</th>\n",
       "      <td>CarName_porsche</td>\n",
       "      <td>2.50</td>\n",
       "    </tr>\n",
       "    <tr>\n",
       "      <th>9</th>\n",
       "      <td>enginelocation_rear</td>\n",
       "      <td>1.98</td>\n",
       "    </tr>\n",
       "    <tr>\n",
       "      <th>4</th>\n",
       "      <td>CarName_buick</td>\n",
       "      <td>1.46</td>\n",
       "    </tr>\n",
       "    <tr>\n",
       "      <th>5</th>\n",
       "      <td>CarName_jaguar</td>\n",
       "      <td>1.43</td>\n",
       "    </tr>\n",
       "    <tr>\n",
       "      <th>8</th>\n",
       "      <td>carbody_wagon</td>\n",
       "      <td>1.17</td>\n",
       "    </tr>\n",
       "    <tr>\n",
       "      <th>3</th>\n",
       "      <td>CarName_bmw</td>\n",
       "      <td>1.14</td>\n",
       "    </tr>\n",
       "    <tr>\n",
       "      <th>7</th>\n",
       "      <td>CarName_volvo</td>\n",
       "      <td>1.13</td>\n",
       "    </tr>\n",
       "    <tr>\n",
       "      <th>2</th>\n",
       "      <td>CarName_audi</td>\n",
       "      <td>1.08</td>\n",
       "    </tr>\n",
       "  </tbody>\n",
       "</table>\n",
       "</div>"
      ],
      "text/plain": [
       "                   Var   Vif\n",
       "0           curbweight  4.20\n",
       "1           horsepower  3.82\n",
       "6      CarName_porsche  2.50\n",
       "9  enginelocation_rear  1.98\n",
       "4        CarName_buick  1.46\n",
       "5       CarName_jaguar  1.43\n",
       "8        carbody_wagon  1.17\n",
       "3          CarName_bmw  1.14\n",
       "7        CarName_volvo  1.13\n",
       "2         CarName_audi  1.08"
      ]
     },
     "execution_count": 129,
     "metadata": {},
     "output_type": "execute_result"
    }
   ],
   "source": [
    "predictors=['curbweight','horsepower','CarName_audi', 'CarName_bmw','CarName_buick', 'CarName_jaguar',\n",
    "            'CarName_porsche', 'CarName_volvo','carbody_wagon','enginelocation_rear']\n",
    "model=wrapperModel(predictors)\n",
    "vif_cal(X_train[predictors])"
   ]
  },
  {
   "cell_type": "markdown",
   "metadata": {},
   "source": [
    "#### All values looks in range with Adj. R-squared = 0.93. Lets further reduce the variables based on EDA knowledge  "
   ]
  },
  {
   "cell_type": "markdown",
   "metadata": {},
   "source": [
    "##### Removing carbody_wagon as it doesnt affect the price significantly"
   ]
  },
  {
   "cell_type": "code",
   "execution_count": 130,
   "metadata": {},
   "outputs": [
    {
     "name": "stdout",
     "output_type": "stream",
     "text": [
      "                            OLS Regression Results                            \n",
      "==============================================================================\n",
      "Dep. Variable:                  price   R-squared:                       0.931\n",
      "Model:                            OLS   Adj. R-squared:                  0.926\n",
      "Method:                 Least Squares   F-statistic:                     213.3\n",
      "Date:                Sun, 19 Aug 2018   Prob (F-statistic):           3.06e-78\n",
      "Time:                        18:34:07   Log-Likelihood:                -1384.8\n",
      "No. Observations:                 153   AIC:                             2790.\n",
      "Df Residuals:                     143   BIC:                             2820.\n",
      "Df Model:                           9                                         \n",
      "Covariance Type:            nonrobust                                         \n",
      "=======================================================================================\n",
      "                          coef    std err          t      P>|t|      [0.025      0.975]\n",
      "---------------------------------------------------------------------------------------\n",
      "const                2780.0225    447.220      6.216      0.000    1896.006    3664.039\n",
      "curbweight            1.52e+04   1607.521      9.456      0.000     1.2e+04    1.84e+04\n",
      "horsepower           1.087e+04   1958.925      5.548      0.000    6995.174    1.47e+04\n",
      "CarName_audi         4085.4982    921.863      4.432      0.000    2263.259    5907.737\n",
      "CarName_bmw          1.129e+04    939.979     12.014      0.000    9435.210    1.32e+04\n",
      "CarName_buick        1.118e+04   1157.532      9.655      0.000    8888.110    1.35e+04\n",
      "CarName_jaguar       9752.5323   1468.877      6.639      0.000    6849.015    1.27e+04\n",
      "CarName_porsche      7004.4744   1710.569      4.095      0.000    3623.206    1.04e+04\n",
      "CarName_volvo        3648.8799    942.394      3.872      0.000    1786.057    5511.702\n",
      "enginelocation_rear  1.094e+04   2138.719      5.114      0.000    6709.652    1.52e+04\n",
      "==============================================================================\n",
      "Omnibus:                       37.132   Durbin-Watson:                   2.016\n",
      "Prob(Omnibus):                  0.000   Jarque-Bera (JB):              109.601\n",
      "Skew:                           0.917   Prob(JB):                     1.59e-24\n",
      "Kurtosis:                       6.718   Cond. No.                         16.7\n",
      "==============================================================================\n",
      "\n",
      "Warnings:\n",
      "[1] Standard Errors assume that the covariance matrix of the errors is correctly specified.\n"
     ]
    },
    {
     "data": {
      "text/html": [
       "<div>\n",
       "<style>\n",
       "    .dataframe thead tr:only-child th {\n",
       "        text-align: right;\n",
       "    }\n",
       "\n",
       "    .dataframe thead th {\n",
       "        text-align: left;\n",
       "    }\n",
       "\n",
       "    .dataframe tbody tr th {\n",
       "        vertical-align: top;\n",
       "    }\n",
       "</style>\n",
       "<table border=\"1\" class=\"dataframe\">\n",
       "  <thead>\n",
       "    <tr style=\"text-align: right;\">\n",
       "      <th></th>\n",
       "      <th>Var</th>\n",
       "      <th>Vif</th>\n",
       "    </tr>\n",
       "  </thead>\n",
       "  <tbody>\n",
       "    <tr>\n",
       "      <th>0</th>\n",
       "      <td>curbweight</td>\n",
       "      <td>3.65</td>\n",
       "    </tr>\n",
       "    <tr>\n",
       "      <th>1</th>\n",
       "      <td>horsepower</td>\n",
       "      <td>3.56</td>\n",
       "    </tr>\n",
       "    <tr>\n",
       "      <th>6</th>\n",
       "      <td>CarName_porsche</td>\n",
       "      <td>2.50</td>\n",
       "    </tr>\n",
       "    <tr>\n",
       "      <th>8</th>\n",
       "      <td>enginelocation_rear</td>\n",
       "      <td>1.98</td>\n",
       "    </tr>\n",
       "    <tr>\n",
       "      <th>4</th>\n",
       "      <td>CarName_buick</td>\n",
       "      <td>1.42</td>\n",
       "    </tr>\n",
       "    <tr>\n",
       "      <th>5</th>\n",
       "      <td>CarName_jaguar</td>\n",
       "      <td>1.39</td>\n",
       "    </tr>\n",
       "    <tr>\n",
       "      <th>3</th>\n",
       "      <td>CarName_bmw</td>\n",
       "      <td>1.12</td>\n",
       "    </tr>\n",
       "    <tr>\n",
       "      <th>7</th>\n",
       "      <td>CarName_volvo</td>\n",
       "      <td>1.12</td>\n",
       "    </tr>\n",
       "    <tr>\n",
       "      <th>2</th>\n",
       "      <td>CarName_audi</td>\n",
       "      <td>1.08</td>\n",
       "    </tr>\n",
       "  </tbody>\n",
       "</table>\n",
       "</div>"
      ],
      "text/plain": [
       "                   Var   Vif\n",
       "0           curbweight  3.65\n",
       "1           horsepower  3.56\n",
       "6      CarName_porsche  2.50\n",
       "8  enginelocation_rear  1.98\n",
       "4        CarName_buick  1.42\n",
       "5       CarName_jaguar  1.39\n",
       "3          CarName_bmw  1.12\n",
       "7        CarName_volvo  1.12\n",
       "2         CarName_audi  1.08"
      ]
     },
     "execution_count": 130,
     "metadata": {},
     "output_type": "execute_result"
    }
   ],
   "source": [
    "predictors=['curbweight','horsepower','CarName_audi', 'CarName_bmw','CarName_buick', 'CarName_jaguar',\n",
    "            'CarName_porsche', 'CarName_volvo','enginelocation_rear']\n",
    "finalModel=wrapperModel(predictors)\n",
    "vif_cal(X_train[predictors])"
   ]
  },
  {
   "cell_type": "markdown",
   "metadata": {},
   "source": [
    "##### Lets finalize this model as we have all values in range and go-ahead with evaluation metrics"
   ]
  },
  {
   "cell_type": "code",
   "execution_count": 131,
   "metadata": {
    "collapsed": true
   },
   "outputs": [],
   "source": [
    "predictors=['curbweight','horsepower','CarName_audi', 'CarName_bmw','CarName_buick', 'CarName_jaguar',\n",
    "            'CarName_porsche', 'CarName_volvo','enginelocation_rear']\n",
    "X_final_predictors=predictors"
   ]
  },
  {
   "cell_type": "markdown",
   "metadata": {},
   "source": [
    "### Model Evaluation"
   ]
  },
  {
   "cell_type": "code",
   "execution_count": 132,
   "metadata": {
    "collapsed": true
   },
   "outputs": [],
   "source": [
    "####Predictions on the test set\n",
    "X_test_model = X_test[X_train[X_final_predictors].columns]\n",
    "X_test_model = sm.add_constant(X_test_model)\n",
    "y_pred = finalModel.predict(X_test_model)"
   ]
  },
  {
   "cell_type": "code",
   "execution_count": 133,
   "metadata": {},
   "outputs": [
    {
     "name": "stdout",
     "output_type": "stream",
     "text": [
      "R squared: 0.8918378106\n",
      "Mean_Squared_Error : 7484415.14185\n",
      "RMSE : 2735.76591503\n"
     ]
    }
   ],
   "source": [
    "####Metrics\n",
    "from sklearn.metrics import mean_squared_error, r2_score\n",
    "mse = mean_squared_error(y_test, y_pred)\n",
    "r_squared = r2_score(y_test, y_pred)\n",
    "\n",
    "print('R squared:',r_squared)\n",
    "print('Mean_Squared_Error :' ,mse)\n",
    "print('RMSE :', np.sqrt(mse))"
   ]
  },
  {
   "cell_type": "markdown",
   "metadata": {},
   "source": [
    "##### R squared on the test data is 0.89"
   ]
  },
  {
   "cell_type": "code",
   "execution_count": 134,
   "metadata": {},
   "outputs": [
    {
     "data": {
      "text/plain": [
       "<matplotlib.text.Text at 0x1308633ea20>"
      ]
     },
     "execution_count": 134,
     "metadata": {},
     "output_type": "execute_result"
    },
    {
     "data": {
      "image/png": "[encoded data removed]",
      "text/plain": [
       "<matplotlib.figure.Figure at 0x1308644b860>"
      ]
     },
     "metadata": {},
     "output_type": "display_data"
    }
   ],
   "source": [
    "####y_test vs y_pred \n",
    "fig = plt.figure()\n",
    "plt.scatter(y_test,y_pred)\n",
    "fig.suptitle('y_test vs y_pred', fontsize=20)              \n",
    "plt.xlabel('y_test', fontsize=18)                          \n",
    "plt.ylabel('y_pred', fontsize=16) "
   ]
  },
  {
   "cell_type": "code",
   "execution_count": 135,
   "metadata": {},
   "outputs": [
    {
     "data": {
      "text/plain": [
       "<matplotlib.text.Text at 0x1308647e7b8>"
      ]
     },
     "execution_count": 135,
     "metadata": {},
     "output_type": "execute_result"
    },
    {
     "data": {
      "image/png": "[encoded data removed]",
      "text/plain": [
       "<matplotlib.figure.Figure at 0x1308655b240>"
      ]
     },
     "metadata": {},
     "output_type": "display_data"
    }
   ],
   "source": [
    "#Residual Errors\n",
    "c = [i for i in range(1,53,1)]\n",
    "fig = plt.figure()\n",
    "plt.plot(c,y_test-y_pred, color=\"blue\", linewidth=2.5, linestyle=\"-\")\n",
    "fig.suptitle('Error Terms', fontsize=20)              \n",
    "plt.xlabel('Index', fontsize=18)                    \n",
    "plt.ylabel('ytest-ypred', fontsize=16)          "
   ]
  },
  {
   "cell_type": "code",
   "execution_count": 136,
   "metadata": {},
   "outputs": [
    {
     "data": {
      "text/plain": [
       "<matplotlib.text.Text at 0x1308648b358>"
      ]
     },
     "execution_count": 136,
     "metadata": {},
     "output_type": "execute_result"
    },
    {
     "data": {
      "image/png": "[encoded data removed]",
      "text/plain": [
       "<matplotlib.figure.Figure at 0x1308650f748>"
      ]
     },
     "metadata": {},
     "output_type": "display_data"
    }
   ],
   "source": [
    "# Actual and Predicted\n",
    "import matplotlib.pyplot as plt\n",
    "c = [i for i in range(1,53,1)] \n",
    "fig = plt.figure() \n",
    "plt.plot(c,y_test, color=\"blue\", linewidth=2.5, linestyle=\"-\") \n",
    "plt.plot(c,y_pred, color=\"red\",  linewidth=2.5, linestyle=\"-\") \n",
    "fig.suptitle('Actual and Predicted', fontsize=20)               \n",
    "plt.xlabel('Index', fontsize=18)                               \n",
    "plt.ylabel('Car Price', fontsize=16)                       "
   ]
  },
  {
   "cell_type": "code",
   "execution_count": 137,
   "metadata": {},
   "outputs": [
    {
     "data": {
      "text/plain": [
       "<matplotlib.text.Text at 0x130864bb0f0>"
      ]
     },
     "execution_count": 137,
     "metadata": {},
     "output_type": "execute_result"
    },
    {
     "data": {
      "image/png": "[encoded data removed]",
      "text/plain": [
       "<matplotlib.figure.Figure at 0x130864b74e0>"
      ]
     },
     "metadata": {},
     "output_type": "display_data"
    }
   ],
   "source": [
    "####Error Distribution\n",
    "fig = plt.figure()\n",
    "sns.distplot((y_test-y_pred),bins=50)\n",
    "fig.suptitle('Error Distribution', fontsize=20)                   \n",
    "plt.xlabel('y_test-y_pred', fontsize=18)                  \n",
    "plt.ylabel('Index', fontsize=16)                          "
   ]
  },
  {
   "cell_type": "markdown",
   "metadata": {
    "collapsed": true
   },
   "source": [
    "### Conclusion"
   ]
  },
  {
   "cell_type": "markdown",
   "metadata": {
    "collapsed": true
   },
   "source": [
    "#### Based on the data analysis and modelling, the final model obtained has an R sqaured value of 0.931 and Adjusted R squared value of 0.926. The major factors driving the price are\n",
    "\n",
    "1. Horse Power\n",
    "2. Curb Weight \n",
    "3. Engine location\n",
    "4. Premium car segments - BMW, Buick, Jaguar, Porsche Audi and Volvo"
   ]
  },
  {
   "cell_type": "markdown",
   "metadata": {
    "collapsed": true
   },
   "source": [
    "#### So based on the analysis,  chinese automobile company Geely Auto can produce some high performance vehicles or venture into premium market segments "
   ]
  }
 ],
 "metadata": {
  "kernelspec": {
   "display_name": "Python 3",
   "language": "python",
   "name": "python3"
  },
  "language_info": {
   "codemirror_mode": {
    "name": "ipython",
    "version": 3
   },
   "file_extension": ".py",
   "mimetype": "text/x-python",
   "name": "python",
   "nbconvert_exporter": "python",
   "pygments_lexer": "ipython3",
   "version": "3.6.1"
  }
 },
 "nbformat": 4,
 "nbformat_minor": 2
}
